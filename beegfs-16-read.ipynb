{
 "cells": [
  {
   "cell_type": "code",
   "execution_count": 1,
   "metadata": {},
   "outputs": [
    {
     "name": "stdout",
     "output_type": "stream",
     "text": [
      "Using matplotlib backend: agg\n",
      "Populating the interactive namespace from numpy and matplotlib\n"
     ]
    }
   ],
   "source": [
    "%load_ext autoreload\n",
    "%autoreload 2\n",
    "%matplotlib inline\n",
    "%pylab"
   ]
  },
  {
   "cell_type": "code",
   "execution_count": 2,
   "metadata": {},
   "outputs": [],
   "source": [
    "import pandas\n",
    "import fio_parse\n",
    "from pathlib2 import Path"
   ]
  },
  {
   "cell_type": "code",
   "execution_count": 3,
   "metadata": {},
   "outputs": [],
   "source": [
    "input_dirs=list(Path('/alaska/bharat/beegfs-rrc16p16/').iterdir())\n",
    "output_dir=Path('output/beegfs-rrc16p16')"
   ]
  },
  {
   "cell_type": "code",
   "execution_count": 4,
   "metadata": {},
   "outputs": [
    {
     "name": "stdout",
     "output_type": "stream",
     "text": [
      "Scanning for fio data in /alaska/bharat/beegfs-rrc16p16/beegfs-jobs-ttnxg\n",
      "I/O size      128, job read: 32 samples\n",
      "I/O size      256, job read: 32 samples\n",
      "I/O size      512, job read: 345718 samples\n",
      "I/O size     1024, job read: 341251 samples\n",
      "I/O size     2048, job read: 308744 samples\n",
      "I/O size     4096, job read: 293324 samples\n",
      "I/O size     8192, job read: 273756 samples\n",
      "I/O size    16384, job read: 249699 samples\n",
      "I/O size    32768, job read: 176589 samples\n",
      "I/O size    65536, job read: 119008 samples\n",
      "I/O size   131072, job read: 73406 samples\n",
      "I/O size   262144, job read: 41890 samples\n",
      "I/O size   524288, job read: 23002 samples\n",
      "I/O size  1048576, job read: 12131 samples\n",
      "I/O size  2097152, job read: 6319 samples\n",
      "I/O size  4194304, job read: 3215 samples\n",
      "I/O size  8388608, job read: 1632 samples\n",
      "I/O size 16777216, job read: 964 samples\n",
      "Aggregated data for 2108089 I/Os, max latency 36438.016000 us\n",
      "Scanning for fio data in /alaska/bharat/beegfs-rrc16p16/beegfs-jobs-vdsl4\n",
      "I/O size      128, job read: 32 samples\n",
      "I/O size      256, job read: 32 samples\n",
      "I/O size      512, job read: 367230 samples\n",
      "I/O size     1024, job read: 343154 samples\n",
      "I/O size     2048, job read: 311140 samples\n",
      "I/O size     4096, job read: 295036 samples\n",
      "I/O size     8192, job read: 274221 samples\n",
      "I/O size    16384, job read: 253561 samples\n",
      "I/O size    32768, job read: 182499 samples\n",
      "I/O size    65536, job read: 123343 samples\n",
      "I/O size   131072, job read: 76551 samples\n",
      "I/O size   262144, job read: 44201 samples\n",
      "I/O size   524288, job read: 23779 samples\n",
      "I/O size  1048576, job read: 12577 samples\n",
      "I/O size  2097152, job read: 6419 samples\n",
      "I/O size  4194304, job read: 3201 samples\n",
      "I/O size  8388608, job read: 1622 samples\n",
      "I/O size 16777216, job read: 836 samples\n",
      "Aggregated data for 4258273 I/Os, max latency 36438.016000 us\n",
      "Scanning for fio data in /alaska/bharat/beegfs-rrc16p16/beegfs-jobs-zjxkp\n",
      "I/O size      128, job read: 32 samples\n",
      "I/O size      256, job read: 32 samples\n",
      "I/O size      512, job read: 354714 samples\n",
      "I/O size     1024, job read: 344733 samples\n",
      "I/O size     2048, job read: 313954 samples\n",
      "I/O size     4096, job read: 299010 samples\n",
      "I/O size     8192, job read: 277472 samples\n",
      "I/O size    16384, job read: 254929 samples\n",
      "I/O size    32768, job read: 180128 samples\n",
      "I/O size    65536, job read: 121087 samples\n",
      "I/O size   131072, job read: 75345 samples\n",
      "I/O size   262144, job read: 43472 samples\n",
      "I/O size   524288, job read: 23324 samples\n",
      "I/O size  1048576, job read: 12353 samples\n",
      "I/O size  2097152, job read: 6373 samples\n",
      "I/O size  4194304, job read: 3184 samples\n",
      "I/O size  8388608, job read: 1644 samples\n",
      "I/O size 16777216, job read: 859 samples\n",
      "Aggregated data for 6404300 I/Os, max latency 36438.016000 us\n",
      "Scanning for fio data in /alaska/bharat/beegfs-rrc16p16/beegfs-jobs-wkgz4\n",
      "I/O size      128, job read: 32 samples\n",
      "I/O size      256, job read: 32 samples\n",
      "I/O size      512, job read: 387092 samples\n",
      "I/O size     1024, job read: 345506 samples\n",
      "I/O size     2048, job read: 314878 samples\n",
      "I/O size     4096, job read: 299914 samples\n",
      "I/O size     8192, job read: 278465 samples\n",
      "I/O size    16384, job read: 257074 samples\n",
      "I/O size    32768, job read: 184662 samples\n",
      "I/O size    65536, job read: 124186 samples\n",
      "I/O size   131072, job read: 77821 samples\n",
      "I/O size   262144, job read: 45008 samples\n",
      "I/O size   524288, job read: 24110 samples\n",
      "I/O size  1048576, job read: 12661 samples\n",
      "I/O size  2097152, job read: 6500 samples\n",
      "I/O size  4194304, job read: 3188 samples\n",
      "I/O size  8388608, job read: 1640 samples\n",
      "I/O size 16777216, job read: 844 samples\n",
      "Aggregated data for 8596077 I/Os, max latency 36438.016000 us\n",
      "Scanning for fio data in /alaska/bharat/beegfs-rrc16p16/beegfs-jobs-4mj8t\n",
      "I/O size      128, job read: 32 samples\n",
      "I/O size      256, job read: 32 samples\n",
      "I/O size      512, job read: 371967 samples\n",
      "I/O size     1024, job read: 344999 samples\n",
      "I/O size     2048, job read: 313449 samples\n",
      "I/O size     4096, job read: 300141 samples\n",
      "I/O size     8192, job read: 277709 samples\n",
      "I/O size    16384, job read: 256079 samples\n",
      "I/O size    32768, job read: 183044 samples\n",
      "I/O size    65536, job read: 123165 samples\n",
      "I/O size   131072, job read: 76926 samples\n",
      "I/O size   262144, job read: 44506 samples\n",
      "I/O size   524288, job read: 23779 samples\n",
      "I/O size  1048576, job read: 12546 samples\n",
      "I/O size  2097152, job read: 6439 samples\n",
      "I/O size  4194304, job read: 3205 samples\n",
      "I/O size  8388608, job read: 1639 samples\n",
      "I/O size 16777216, job read: 844 samples\n",
      "Aggregated data for 10766630 I/Os, max latency 36438.016000 us\n",
      "Scanning for fio data in /alaska/bharat/beegfs-rrc16p16/beegfs-jobs-j97fn\n",
      "I/O size      128, job read: 32 samples\n",
      "I/O size      256, job read: 32 samples\n",
      "I/O size      512, job read: 347053 samples\n",
      "I/O size     1024, job read: 342111 samples\n",
      "I/O size     2048, job read: 309992 samples\n",
      "I/O size     4096, job read: 294031 samples\n",
      "I/O size     8192, job read: 273800 samples\n",
      "I/O size    16384, job read: 251031 samples\n",
      "I/O size    32768, job read: 178273 samples\n",
      "I/O size    65536, job read: 119704 samples\n",
      "I/O size   131072, job read: 74352 samples\n",
      "I/O size   262144, job read: 42601 samples\n",
      "I/O size   524288, job read: 23122 samples\n",
      "I/O size  1048576, job read: 12304 samples\n",
      "I/O size  2097152, job read: 6259 samples\n",
      "I/O size  4194304, job read: 3214 samples\n",
      "I/O size  8388608, job read: 1620 samples\n",
      "I/O size 16777216, job read: 912 samples\n",
      "Aggregated data for 12882625 I/Os, max latency 36438.016000 us\n",
      "Scanning for fio data in /alaska/bharat/beegfs-rrc16p16/beegfs-jobs-4p2jg\n",
      "I/O size      128, job read: 32 samples\n",
      "I/O size      256, job read: 32 samples\n",
      "I/O size      512, job read: 403412 samples\n",
      "I/O size     1024, job read: 345355 samples\n",
      "I/O size     2048, job read: 315106 samples\n",
      "I/O size     4096, job read: 299471 samples\n",
      "I/O size     8192, job read: 279222 samples\n",
      "I/O size    16384, job read: 256513 samples\n",
      "I/O size    32768, job read: 185886 samples\n",
      "I/O size    65536, job read: 125087 samples\n",
      "I/O size   131072, job read: 78727 samples\n",
      "I/O size   262144, job read: 45685 samples\n",
      "I/O size   524288, job read: 24475 samples\n",
      "I/O size  1048576, job read: 12738 samples\n",
      "I/O size  2097152, job read: 6599 samples\n",
      "I/O size  4194304, job read: 3196 samples\n",
      "I/O size  8388608, job read: 1639 samples\n",
      "I/O size 16777216, job read: 851 samples\n",
      "Aggregated data for 15092677 I/Os, max latency 55312.384000 us\n",
      "Scanning for fio data in /alaska/bharat/beegfs-rrc16p16/beegfs-jobs-ckm5t\n",
      "I/O size      128, job read: 32 samples\n",
      "I/O size      256, job read: 32 samples\n",
      "I/O size      512, job read: 345453 samples\n",
      "I/O size     1024, job read: 341450 samples\n",
      "I/O size     2048, job read: 308674 samples\n",
      "I/O size     4096, job read: 293318 samples\n",
      "I/O size     8192, job read: 273120 samples\n",
      "I/O size    16384, job read: 247891 samples\n",
      "I/O size    32768, job read: 175475 samples\n",
      "I/O size    65536, job read: 117813 samples\n",
      "I/O size   131072, job read: 72685 samples\n",
      "I/O size   262144, job read: 41470 samples\n",
      "I/O size   524288, job read: 22771 samples\n",
      "I/O size  1048576, job read: 12104 samples\n",
      "I/O size  2097152, job read: 6318 samples\n",
      "I/O size  4194304, job read: 3227 samples\n",
      "I/O size  8388608, job read: 1624 samples\n",
      "I/O size 16777216, job read: 1130 samples\n",
      "Aggregated data for 17195871 I/Os, max latency 55312.384000 us\n",
      "Scanning for fio data in /alaska/bharat/beegfs-rrc16p16/beegfs-jobs-wp8rt\n",
      "I/O size      128, job read: 32 samples\n",
      "I/O size      256, job read: 32 samples\n",
      "I/O size      512, job read: 350928 samples\n",
      "I/O size     1024, job read: 344058 samples\n",
      "I/O size     2048, job read: 313808 samples\n",
      "I/O size     4096, job read: 299290 samples\n",
      "I/O size     8192, job read: 277282 samples\n",
      "I/O size    16384, job read: 253304 samples\n",
      "I/O size    32768, job read: 178464 samples\n",
      "I/O size    65536, job read: 119786 samples\n",
      "I/O size   131072, job read: 74463 samples\n",
      "I/O size   262144, job read: 42756 samples\n",
      "I/O size   524288, job read: 23119 samples\n",
      "I/O size  1048576, job read: 12254 samples\n",
      "I/O size  2097152, job read: 6366 samples\n",
      "I/O size  4194304, job read: 3203 samples\n",
      "I/O size  8388608, job read: 1632 samples\n",
      "I/O size 16777216, job read: 921 samples\n",
      "Aggregated data for 19332791 I/Os, max latency 55312.384000 us\n",
      "Scanning for fio data in /alaska/bharat/beegfs-rrc16p16/beegfs-jobs-z6vc9\n",
      "I/O size      128, job read: 32 samples\n",
      "I/O size      256, job read: 32 samples\n",
      "I/O size      512, job read: 397500 samples\n",
      "I/O size     1024, job read: 343740 samples\n",
      "I/O size     2048, job read: 313376 samples\n",
      "I/O size     4096, job read: 295224 samples\n",
      "I/O size     8192, job read: 275748 samples\n",
      "I/O size    16384, job read: 253747 samples\n",
      "I/O size    32768, job read: 185389 samples\n",
      "I/O size    65536, job read: 125315 samples\n",
      "I/O size   131072, job read: 78287 samples\n",
      "I/O size   262144, job read: 45477 samples\n",
      "I/O size   524288, job read: 24329 samples\n",
      "I/O size  1048576, job read: 12772 samples\n",
      "I/O size  2097152, job read: 6604 samples\n",
      "I/O size  4194304, job read: 3164 samples\n",
      "I/O size  8388608, job read: 1638 samples\n",
      "I/O size 16777216, job read: 847 samples\n",
      "Aggregated data for 21522830 I/Os, max latency 65273.856000 us\n",
      "Scanning for fio data in /alaska/bharat/beegfs-rrc16p16/beegfs-jobs-tgttt\n",
      "I/O size      128, job read: 32 samples\n",
      "I/O size      256, job read: 32 samples\n",
      "I/O size      512, job read: 348377 samples\n",
      "I/O size     1024, job read: 343181 samples\n",
      "I/O size     2048, job read: 311446 samples\n",
      "I/O size     4096, job read: 297327 samples\n",
      "I/O size     8192, job read: 275701 samples\n",
      "I/O size    16384, job read: 250020 samples\n",
      "I/O size    32768, job read: 174968 samples\n",
      "I/O size    65536, job read: 117171 samples\n",
      "I/O size   131072, job read: 72521 samples\n",
      "I/O size   262144, job read: 41444 samples\n",
      "I/O size   524288, job read: 22752 samples\n",
      "I/O size  1048576, job read: 12028 samples\n",
      "I/O size  2097152, job read: 6409 samples\n",
      "I/O size  4194304, job read: 3219 samples\n",
      "I/O size  8388608, job read: 1656 samples\n",
      "I/O size 16777216, job read: 1075 samples\n",
      "Aggregated data for 23641021 I/Os, max latency 65273.856000 us\n",
      "Scanning for fio data in /alaska/bharat/beegfs-rrc16p16/beegfs-jobs-m9rgw\n",
      "I/O size      128, job read: 32 samples\n",
      "I/O size      256, job read: 32 samples\n",
      "I/O size      512, job read: 356317 samples\n",
      "I/O size     1024, job read: 344273 samples\n",
      "I/O size     2048, job read: 309479 samples\n",
      "I/O size     4096, job read: 294729 samples\n",
      "I/O size     8192, job read: 274464 samples\n",
      "I/O size    16384, job read: 252537 samples\n",
      "I/O size    32768, job read: 180847 samples\n",
      "I/O size    65536, job read: 122149 samples\n",
      "I/O size   131072, job read: 75799 samples\n",
      "I/O size   262144, job read: 43725 samples\n",
      "I/O size   524288, job read: 23487 samples\n",
      "I/O size  1048576, job read: 12485 samples\n",
      "I/O size  2097152, job read: 6371 samples\n",
      "I/O size  4194304, job read: 3202 samples\n",
      "I/O size  8388608, job read: 1621 samples\n",
      "I/O size 16777216, job read: 849 samples\n",
      "Aggregated data for 25775816 I/Os, max latency 65273.856000 us\n",
      "Scanning for fio data in /alaska/bharat/beegfs-rrc16p16/beegfs-jobs-5gb49\n",
      "I/O size      128, job read: 32 samples\n",
      "I/O size      256, job read: 32 samples\n",
      "I/O size      512, job read: 361806 samples\n",
      "I/O size     1024, job read: 344650 samples\n",
      "I/O size     2048, job read: 313709 samples\n",
      "I/O size     4096, job read: 299125 samples\n",
      "I/O size     8192, job read: 277697 samples\n",
      "I/O size    16384, job read: 256062 samples\n",
      "I/O size    32768, job read: 181682 samples\n",
      "I/O size    65536, job read: 122243 samples\n",
      "I/O size   131072, job read: 76041 samples\n",
      "I/O size   262144, job read: 44066 samples\n",
      "I/O size   524288, job read: 23539 samples\n",
      "I/O size  1048576, job read: 12418 samples\n",
      "I/O size  2097152, job read: 6410 samples\n",
      "I/O size  4194304, job read: 3199 samples\n",
      "I/O size  8388608, job read: 1627 samples\n",
      "I/O size 16777216, job read: 845 samples\n",
      "Aggregated data for 27932790 I/Os, max latency 65273.856000 us\n",
      "Scanning for fio data in /alaska/bharat/beegfs-rrc16p16/beegfs-jobs-z47g8\n",
      "I/O size      128, job read: 32 samples\n",
      "I/O size      256, job read: 32 samples\n",
      "I/O size      512, job read: 349742 samples\n",
      "I/O size     1024, job read: 343231 samples\n",
      "I/O size     2048, job read: 311643 samples\n",
      "I/O size     4096, job read: 298858 samples\n",
      "I/O size     8192, job read: 276272 samples\n",
      "I/O size    16384, job read: 251924 samples\n",
      "I/O size    32768, job read: 177048 samples\n",
      "I/O size    65536, job read: 118659 samples\n",
      "I/O size   131072, job read: 73496 samples\n",
      "I/O size   262144, job read: 42170 samples\n",
      "I/O size   524288, job read: 22988 samples\n",
      "I/O size  1048576, job read: 12193 samples\n",
      "I/O size  2097152, job read: 6346 samples\n",
      "I/O size  4194304, job read: 3208 samples\n",
      "I/O size  8388608, job read: 1643 samples\n",
      "I/O size 16777216, job read: 976 samples\n",
      "Aggregated data for 30060167 I/Os, max latency 65273.856000 us\n",
      "Scanning for fio data in /alaska/bharat/beegfs-rrc16p16/beegfs-jobs-ck94p\n",
      "I/O size      128, job read: 32 samples\n",
      "I/O size      256, job read: 32 samples\n",
      "I/O size      512, job read: 381479 samples\n",
      "I/O size     1024, job read: 343348 samples\n",
      "I/O size     2048, job read: 312613 samples\n",
      "I/O size     4096, job read: 295732 samples\n",
      "I/O size     8192, job read: 275417 samples\n",
      "I/O size    16384, job read: 253591 samples\n",
      "I/O size    32768, job read: 183829 samples\n",
      "I/O size    65536, job read: 124620 samples\n",
      "I/O size   131072, job read: 77684 samples\n",
      "I/O size   262144, job read: 45086 samples\n",
      "I/O size   524288, job read: 24081 samples\n",
      "I/O size  1048576, job read: 12693 samples\n",
      "I/O size  2097152, job read: 6500 samples\n",
      "I/O size  4194304, job read: 3202 samples\n",
      "I/O size  8388608, job read: 1622 samples\n",
      "I/O size 16777216, job read: 848 samples\n",
      "Aggregated data for 32230796 I/Os, max latency 65273.856000 us\n",
      "Scanning for fio data in /alaska/bharat/beegfs-rrc16p16/beegfs-jobs-s6j5l\n",
      "I/O size      128, job read: 32 samples\n",
      "I/O size      256, job read: 32 samples\n",
      "I/O size      512, job read: 350172 samples\n",
      "I/O size     1024, job read: 343537 samples\n",
      "I/O size     2048, job read: 309447 samples\n",
      "I/O size     4096, job read: 294904 samples\n",
      "I/O size     8192, job read: 273784 samples\n",
      "I/O size    16384, job read: 251996 samples\n",
      "I/O size    32768, job read: 180225 samples\n",
      "I/O size    65536, job read: 120960 samples\n",
      "I/O size   131072, job read: 74957 samples\n",
      "I/O size   262144, job read: 43061 samples\n",
      "I/O size   524288, job read: 23226 samples\n",
      "I/O size  1048576, job read: 12406 samples\n",
      "I/O size  2097152, job read: 6372 samples\n",
      "I/O size  4194304, job read: 3206 samples\n",
      "I/O size  8388608, job read: 1624 samples\n",
      "I/O size 16777216, job read: 864 samples\n",
      "Aggregated data for 34355821 I/Os, max latency 65273.856000 us\n",
      "Plotting to output/beegfs-rrc16p16/blob.png\n"
     ]
    },
    {
     "data": {
      "image/png": "[encoded data removed]",
      "text/plain": [
       "<Figure size 432x288 with 1 Axes>"
      ]
     },
     "metadata": {
      "needs_background": "light"
     },
     "output_type": "display_data"
    }
   ],
   "source": [
    "clat_grid = fio_parse.ClatGrid(input_dirs, output_dir, 200, force=True, logscale=True, skip_bs=[128, 256])"
   ]
  },
  {
   "cell_type": "code",
   "execution_count": 5,
   "metadata": {},
   "outputs": [],
   "source": [
    "cldf = pandas.read_csv(output_dir/'read-read-clat.dat',header=None,index_col=0,names=['ns','freq'],delimiter='\\t')\n",
    "cldf.index.name = 'block size'\n",
    "cldf.columns.name = 'bandwidth'"
   ]
  },
  {
   "cell_type": "code",
   "execution_count": 6,
   "metadata": {},
   "outputs": [
    {
     "data": {
      "text/plain": [
       "<matplotlib.axes._subplots.AxesSubplot at 0x7fec3672bcd0>"
      ]
     },
     "execution_count": 6,
     "metadata": {},
     "output_type": "execute_result"
    },
    {
     "data": {
      "image/png": "[encoded data removed]",
      "text/plain": [
       "<Figure size 432x288 with 1 Axes>"
      ]
     },
     "metadata": {
      "needs_background": "light"
     },
     "output_type": "display_data"
    }
   ],
   "source": [
    "cldf.groupby(cldf.index).mean().plot(xlim=[7,24])"
   ]
  },
  {
   "cell_type": "code",
   "execution_count": 7,
   "metadata": {},
   "outputs": [],
   "source": [
    "bwdf = pandas.read_csv(output_dir/'read-bandwidth.dat',header=None,index_col=0,names=['read','write'],delimiter='\\t')\n",
    "bwdf.index.name = 'block size'\n",
    "bwdf.columns.name = 'bandwidth'"
   ]
  },
  {
   "cell_type": "code",
   "execution_count": 8,
   "metadata": {},
   "outputs": [
    {
     "data": {
      "text/plain": [
       "Text(0,0.5,'bandwidth')"
      ]
     },
     "execution_count": 8,
     "metadata": {},
     "output_type": "execute_result"
    },
    {
     "data": {
      "image/png": "[encoded data removed]",
      "text/plain": [
       "<Figure size 432x288 with 1 Axes>"
      ]
     },
     "metadata": {
      "needs_background": "light"
     },
     "output_type": "display_data"
    }
   ],
   "source": [
    "ax = bwdf.groupby(bwdf.index).mean().plot(loglog=True)\n",
    "ax.set_ylabel('bandwidth')"
   ]
  },
  {
   "cell_type": "code",
   "execution_count": 9,
   "metadata": {},
   "outputs": [],
   "source": [
    "cols=['iops','1%','5%','10%','20%','30%','40%','50%','60%','70%','80%','90%','95%','99%','99.5%','99.9%','99.95%','99.99%']\n",
    "ildf=pandas.read_csv(output_dir/'read-read-iops-latency.dat',header=None,index_col=0,names=cols,delimiter='\\t')\n",
    "ildf.index.name = 'block size'\n",
    "ildf.columns.name = 'percentiles'"
   ]
  },
  {
   "cell_type": "code",
   "execution_count": 10,
   "metadata": {},
   "outputs": [],
   "source": [
    "mildf = ildf.groupby(ildf.index).mean()/clat_grid.divider\n",
    "mildf.index = np.log2(mildf.index)"
   ]
  },
  {
   "cell_type": "code",
   "execution_count": 11,
   "metadata": {},
   "outputs": [
    {
     "name": "stdout",
     "output_type": "stream",
     "text": [
      "Plotting to output/beegfs-rrc16p16/blob.png\n"
     ]
    },
    {
     "name": "stderr",
     "output_type": "stream",
     "text": [
      "/opt/bharat/venv-openstack/lib/python2.7/site-packages/ipykernel_launcher.py:3: RuntimeWarning: divide by zero encountered in log10\n",
      "  This is separate from the ipykernel package so we can avoid doing imports until\n"
     ]
    },
    {
     "data": {
      "image/png": "[encoded data removed]",
      "text/plain": [
       "<Figure size 720x720 with 1 Axes>"
      ]
     },
     "metadata": {
      "needs_background": "light"
     },
     "output_type": "display_data"
    }
   ],
   "source": [
    "fig = clat_grid.plot_data(output_dir=output_dir,cmap='gist_heat')\n",
    "# fig=df[[8,12,14,18]].plot(figsize=(10,10))\n",
    "np.log10(mildf[['5%','50%','95%','99%','99.99%']]).plot(figsize=(10,10),ax=fig.axes[0],xlim=[9,16],ylim=[2.5,6.5], linewidth=3)\n",
    "plt.xlabel('block size - $2^n$')\n",
    "plt.ylabel('commit latency - $10^n$  (ns)')\n",
    "plt.savefig('%s/%s'%(output_dir,'decorated-blog.png'))"
   ]
  }
 ],
 "metadata": {
  "kernelspec": {
   "display_name": "Python 2",
   "language": "python",
   "name": "python2"
  },
  "language_info": {
   "codemirror_mode": {
    "name": "ipython",
    "version": 2
   },
   "file_extension": ".py",
   "mimetype": "text/x-python",
   "name": "python",
   "nbconvert_exporter": "python",
   "pygments_lexer": "ipython2",
   "version": "2.7.5"
  }
 },
 "nbformat": 4,
 "nbformat_minor": 2
}
