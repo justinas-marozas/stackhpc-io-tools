{
 "cells": [
  {
   "cell_type": "code",
   "execution_count": 44,
   "metadata": {},
   "outputs": [
    {
     "name": "stdout",
     "output_type": "stream",
     "text": [
      "The autoreload extension is already loaded. To reload it, use:\n",
      "  %reload_ext autoreload\n",
      "Using matplotlib backend: agg\n",
      "Populating the interactive namespace from numpy and matplotlib\n"
     ]
    }
   ],
   "source": [
    "%load_ext autoreload\n",
    "%autoreload 2\n",
    "%matplotlib inline\n",
    "%pylab"
   ]
  },
  {
   "cell_type": "code",
   "execution_count": 45,
   "metadata": {},
   "outputs": [],
   "source": [
    "import pandas\n",
    "import fio_parse\n",
    "from pathlib2 import Path"
   ]
  },
  {
   "cell_type": "code",
   "execution_count": 46,
   "metadata": {},
   "outputs": [],
   "source": [
    "input_dirs=list(Path('/alaska/bharat/beegfs-16-randread/').iterdir())\n",
    "output_dir=Path('output/beegfs-16-randread')"
   ]
  },
  {
   "cell_type": "code",
   "execution_count": 47,
   "metadata": {},
   "outputs": [
    {
     "name": "stdout",
     "output_type": "stream",
     "text": [
      "Deleting existing output data output/beegfs-16-randread/${FIO_JOB}-bandwidth.dat in output directory\n",
      "Deleting existing output data output/beegfs-16-randread/${FIO_JOB}-iops-latency.dat in output directory\n",
      "Deleting existing output data output/beegfs-16-randread/read-clat.dat in output directory\n",
      "Scanning for fio data in /alaska/bharat/beegfs-16-randread/beegfs-read-tvsh4\n",
      "I/O size      128, job read: 32 samples\n",
      "I/O size      256, job read: 32 samples\n",
      "I/O size      512, job read: 703041 samples\n",
      "I/O size     1024, job read: 703819 samples\n",
      "I/O size     2048, job read: 704141 samples\n",
      "I/O size     4096, job read: 700170 samples\n",
      "I/O size     8192, job read: 667039 samples\n",
      "I/O size    16384, job read: 577399 samples\n",
      "I/O size    32768, job read: 380245 samples\n",
      "I/O size    65536, job read: 195967 samples\n",
      "I/O size   131072, job read: 97028 samples\n",
      "I/O size   262144, job read: 48615 samples\n",
      "I/O size   524288, job read: 24361 samples\n",
      "I/O size  1048576, job read: 12173 samples\n",
      "I/O size  2097152, job read: 6033 samples\n",
      "I/O size  4194304, job read: 2950 samples\n",
      "I/O size  8388608, job read: 1516 samples\n",
      "I/O size 16777216, job read: 770 samples\n",
      "Aggregated data for 4631821 I/Os, max latency 27131.904000 us\n",
      "Scanning for fio data in /alaska/bharat/beegfs-16-randread/beegfs-read-qwhhl\n",
      "I/O size      128, job read: 32 samples\n",
      "I/O size      256, job read: 32 samples\n",
      "I/O size      512, job read: 702752 samples\n",
      "I/O size     1024, job read: 705175 samples\n",
      "I/O size     2048, job read: 703748 samples\n",
      "I/O size     4096, job read: 700412 samples\n",
      "I/O size     8192, job read: 665316 samples\n",
      "I/O size    16384, job read: 573431 samples\n",
      "I/O size    32768, job read: 375566 samples\n",
      "I/O size    65536, job read: 195421 samples\n",
      "I/O size   131072, job read: 97059 samples\n",
      "I/O size   262144, job read: 48489 samples\n",
      "I/O size   524288, job read: 24236 samples\n",
      "I/O size  1048576, job read: 12085 samples\n",
      "I/O size  2097152, job read: 6075 samples\n",
      "I/O size  4194304, job read: 3035 samples\n",
      "I/O size  8388608, job read: 1528 samples\n",
      "I/O size 16777216, job read: 760 samples\n",
      "Aggregated data for 9253642 I/Os, max latency 36438.016000 us\n",
      "Scanning for fio data in /alaska/bharat/beegfs-16-randread/beegfs-read-cgtql\n",
      "I/O size      128, job read: 32 samples\n",
      "I/O size      256, job read: 32 samples\n",
      "I/O size      512, job read: 703027 samples\n",
      "I/O size     1024, job read: 703797 samples\n",
      "I/O size     2048, job read: 699931 samples\n",
      "I/O size     4096, job read: 700754 samples\n",
      "I/O size     8192, job read: 666793 samples\n",
      "I/O size    16384, job read: 570194 samples\n",
      "I/O size    32768, job read: 377922 samples\n",
      "I/O size    65536, job read: 195364 samples\n",
      "I/O size   131072, job read: 97206 samples\n",
      "I/O size   262144, job read: 48580 samples\n",
      "I/O size   524288, job read: 24304 samples\n",
      "I/O size  1048576, job read: 12116 samples\n",
      "I/O size  2097152, job read: 6116 samples\n",
      "I/O size  4194304, job read: 3068 samples\n",
      "I/O size  8388608, job read: 1563 samples\n",
      "I/O size 16777216, job read: 770 samples\n",
      "Aggregated data for 13871424 I/Os, max latency 36438.016000 us\n",
      "Scanning for fio data in /alaska/bharat/beegfs-16-randread/beegfs-read-cwqtt\n",
      "I/O size      128, job read: 32 samples\n",
      "I/O size      256, job read: 32 samples\n",
      "I/O size      512, job read: 702184 samples\n",
      "I/O size     1024, job read: 703625 samples\n",
      "I/O size     2048, job read: 704726 samples\n",
      "I/O size     4096, job read: 700112 samples\n",
      "I/O size     8192, job read: 667686 samples\n",
      "I/O size    16384, job read: 576800 samples\n",
      "I/O size    32768, job read: 378153 samples\n",
      "I/O size    65536, job read: 195239 samples\n",
      "I/O size   131072, job read: 97415 samples\n",
      "I/O size   262144, job read: 48587 samples\n",
      "I/O size   524288, job read: 24255 samples\n",
      "I/O size  1048576, job read: 12068 samples\n",
      "I/O size  2097152, job read: 6070 samples\n",
      "I/O size  4194304, job read: 3066 samples\n",
      "I/O size  8388608, job read: 1541 samples\n",
      "I/O size 16777216, job read: 749 samples\n",
      "Aggregated data for 18499949 I/Os, max latency 36438.016000 us\n",
      "Scanning for fio data in /alaska/bharat/beegfs-16-randread/beegfs-read-gqx8l\n",
      "I/O size      128, job read: 32 samples\n",
      "I/O size      256, job read: 32 samples\n",
      "I/O size      512, job read: 702876 samples\n",
      "I/O size     1024, job read: 699432 samples\n",
      "I/O size     2048, job read: 703921 samples\n",
      "I/O size     4096, job read: 700647 samples\n",
      "I/O size     8192, job read: 667097 samples\n",
      "I/O size    16384, job read: 573918 samples\n",
      "I/O size    32768, job read: 378071 samples\n",
      "I/O size    65536, job read: 196906 samples\n",
      "I/O size   131072, job read: 97703 samples\n",
      "I/O size   262144, job read: 48526 samples\n",
      "I/O size   524288, job read: 24205 samples\n",
      "I/O size  1048576, job read: 12040 samples\n",
      "I/O size  2097152, job read: 6106 samples\n",
      "I/O size  4194304, job read: 2991 samples\n",
      "I/O size  8388608, job read: 1543 samples\n",
      "I/O size 16777216, job read: 758 samples\n",
      "Aggregated data for 23122817 I/Os, max latency 36438.016000 us\n",
      "Scanning for fio data in /alaska/bharat/beegfs-16-randread/beegfs-read-9m8cx\n",
      "I/O size      128, job read: 32 samples\n",
      "I/O size      256, job read: 32 samples\n",
      "I/O size      512, job read: 700056 samples\n",
      "I/O size     1024, job read: 703356 samples\n",
      "I/O size     2048, job read: 704726 samples\n",
      "I/O size     4096, job read: 695650 samples\n",
      "I/O size     8192, job read: 662126 samples\n",
      "I/O size    16384, job read: 577284 samples\n",
      "I/O size    32768, job read: 377458 samples\n",
      "I/O size    65536, job read: 197215 samples\n",
      "I/O size   131072, job read: 97552 samples\n",
      "I/O size   262144, job read: 48729 samples\n",
      "I/O size   524288, job read: 24623 samples\n",
      "I/O size  1048576, job read: 12105 samples\n",
      "I/O size  2097152, job read: 6137 samples\n",
      "I/O size  4194304, job read: 3017 samples\n",
      "I/O size  8388608, job read: 1504 samples\n",
      "I/O size 16777216, job read: 754 samples\n",
      "Aggregated data for 27740688 I/Os, max latency 36438.016000 us\n",
      "Scanning for fio data in /alaska/bharat/beegfs-16-randread/beegfs-read-64sch\n",
      "I/O size      128, job read: 32 samples\n",
      "I/O size      256, job read: 32 samples\n",
      "I/O size      512, job read: 703124 samples\n",
      "I/O size     1024, job read: 703626 samples\n",
      "I/O size     2048, job read: 703708 samples\n",
      "I/O size     4096, job read: 700445 samples\n",
      "I/O size     8192, job read: 666893 samples\n",
      "I/O size    16384, job read: 576416 samples\n",
      "I/O size    32768, job read: 378971 samples\n",
      "I/O size    65536, job read: 195874 samples\n",
      "I/O size   131072, job read: 96920 samples\n",
      "I/O size   262144, job read: 48539 samples\n",
      "I/O size   524288, job read: 24407 samples\n",
      "I/O size  1048576, job read: 12213 samples\n",
      "I/O size  2097152, job read: 6086 samples\n",
      "I/O size  4194304, job read: 3070 samples\n",
      "I/O size  8388608, job read: 1497 samples\n",
      "I/O size 16777216, job read: 762 samples\n",
      "Aggregated data for 32369745 I/Os, max latency 36438.016000 us\n",
      "Scanning for fio data in /alaska/bharat/beegfs-16-randread/beegfs-read-7h6df\n",
      "I/O size      128, job read: 32 samples\n",
      "I/O size      256, job read: 32 samples\n",
      "I/O size      512, job read: 702390 samples\n",
      "I/O size     1024, job read: 698288 samples\n",
      "I/O size     2048, job read: 703854 samples\n",
      "I/O size     4096, job read: 699748 samples\n",
      "I/O size     8192, job read: 666920 samples\n",
      "I/O size    16384, job read: 574089 samples\n",
      "I/O size    32768, job read: 378929 samples\n",
      "I/O size    65536, job read: 195018 samples\n",
      "I/O size   131072, job read: 97283 samples\n",
      "I/O size   262144, job read: 48461 samples\n",
      "I/O size   524288, job read: 24247 samples\n",
      "I/O size  1048576, job read: 12254 samples\n",
      "I/O size  2097152, job read: 6022 samples\n",
      "I/O size  4194304, job read: 3000 samples\n",
      "I/O size  8388608, job read: 1531 samples\n",
      "I/O size 16777216, job read: 778 samples\n",
      "Aggregated data for 36988981 I/Os, max latency 36438.016000 us\n",
      "Scanning for fio data in /alaska/bharat/beegfs-16-randread/beegfs-read-pvq5b\n",
      "I/O size      128, job read: 32 samples\n",
      "I/O size      256, job read: 32 samples\n",
      "I/O size      512, job read: 702989 samples\n",
      "I/O size     1024, job read: 702806 samples\n",
      "I/O size     2048, job read: 703850 samples\n",
      "I/O size     4096, job read: 699391 samples\n",
      "I/O size     8192, job read: 666490 samples\n",
      "I/O size    16384, job read: 573267 samples\n",
      "I/O size    32768, job read: 378916 samples\n",
      "I/O size    65536, job read: 197002 samples\n",
      "I/O size   131072, job read: 96864 samples\n",
      "I/O size   262144, job read: 48558 samples\n",
      "I/O size   524288, job read: 24284 samples\n",
      "I/O size  1048576, job read: 12275 samples\n",
      "I/O size  2097152, job read: 6004 samples\n",
      "I/O size  4194304, job read: 3070 samples\n",
      "I/O size  8388608, job read: 1530 samples\n",
      "I/O size 16777216, job read: 754 samples\n",
      "Aggregated data for 41613692 I/Os, max latency 36438.016000 us\n",
      "Scanning for fio data in /alaska/bharat/beegfs-16-randread/beegfs-read-twn8v\n",
      "I/O size      128, job read: 32 samples\n",
      "I/O size      256, job read: 32 samples\n",
      "I/O size      512, job read: 700818 samples\n",
      "I/O size     1024, job read: 703579 samples\n",
      "I/O size     2048, job read: 704191 samples\n",
      "I/O size     4096, job read: 700037 samples\n",
      "I/O size     8192, job read: 667106 samples\n",
      "I/O size    16384, job read: 577338 samples\n",
      "I/O size    32768, job read: 379113 samples\n",
      "I/O size    65536, job read: 195324 samples\n",
      "I/O size   131072, job read: 97274 samples\n",
      "I/O size   262144, job read: 48679 samples\n",
      "I/O size   524288, job read: 24400 samples\n",
      "I/O size  1048576, job read: 12052 samples\n",
      "I/O size  2097152, job read: 6092 samples\n",
      "I/O size  4194304, job read: 3031 samples\n",
      "I/O size  8388608, job read: 1495 samples\n",
      "I/O size 16777216, job read: 761 samples\n",
      "Aggregated data for 46241198 I/Os, max latency 36438.016000 us\n",
      "Scanning for fio data in /alaska/bharat/beegfs-16-randread/beegfs-read-j65vm\n",
      "I/O size      128, job read: 32 samples\n",
      "I/O size      256, job read: 32 samples\n",
      "I/O size      512, job read: 702111 samples\n",
      "I/O size     1024, job read: 703853 samples\n",
      "I/O size     2048, job read: 703342 samples\n",
      "I/O size     4096, job read: 700702 samples\n",
      "I/O size     8192, job read: 666736 samples\n",
      "I/O size    16384, job read: 577463 samples\n",
      "I/O size    32768, job read: 378416 samples\n",
      "I/O size    65536, job read: 197310 samples\n",
      "I/O size   131072, job read: 97173 samples\n",
      "I/O size   262144, job read: 48639 samples\n",
      "I/O size   524288, job read: 24244 samples\n",
      "I/O size  1048576, job read: 12038 samples\n",
      "I/O size  2097152, job read: 6036 samples\n",
      "I/O size  4194304, job read: 2934 samples\n",
      "I/O size  8388608, job read: 1502 samples\n",
      "I/O size 16777216, job read: 766 samples\n",
      "Aggregated data for 50871131 I/Os, max latency 42729.472000 us\n",
      "Scanning for fio data in /alaska/bharat/beegfs-16-randread/beegfs-read-wqzng\n",
      "I/O size      128, job read: 32 samples\n",
      "I/O size      256, job read: 32 samples\n",
      "I/O size      512, job read: 702839 samples\n",
      "I/O size     1024, job read: 703735 samples\n",
      "I/O size     2048, job read: 704728 samples\n",
      "I/O size     4096, job read: 700167 samples\n",
      "I/O size     8192, job read: 666750 samples\n",
      "I/O size    16384, job read: 576980 samples\n",
      "I/O size    32768, job read: 379432 samples\n",
      "I/O size    65536, job read: 195431 samples\n",
      "I/O size   131072, job read: 97693 samples\n",
      "I/O size   262144, job read: 48558 samples\n",
      "I/O size   524288, job read: 24375 samples\n",
      "I/O size  1048576, job read: 12108 samples\n",
      "I/O size  2097152, job read: 6058 samples\n",
      "I/O size  4194304, job read: 3093 samples\n",
      "I/O size  8388608, job read: 1500 samples\n",
      "I/O size 16777216, job read: 761 samples\n",
      "Aggregated data for 55501193 I/Os, max latency 42729.472000 us\n",
      "Scanning for fio data in /alaska/bharat/beegfs-16-randread/beegfs-read-jh95q\n",
      "I/O size      128, job read: 32 samples\n",
      "I/O size      256, job read: 32 samples\n",
      "I/O size      512, job read: 702940 samples\n",
      "I/O size     1024, job read: 703541 samples\n",
      "I/O size     2048, job read: 704437 samples\n",
      "I/O size     4096, job read: 696187 samples\n",
      "I/O size     8192, job read: 665925 samples\n",
      "I/O size    16384, job read: 577277 samples\n",
      "I/O size    32768, job read: 377277 samples\n",
      "I/O size    65536, job read: 195695 samples\n",
      "I/O size   131072, job read: 97213 samples\n",
      "I/O size   262144, job read: 48534 samples\n",
      "I/O size   524288, job read: 24425 samples\n",
      "I/O size  1048576, job read: 12147 samples\n",
      "I/O size  2097152, job read: 6008 samples\n",
      "I/O size  4194304, job read: 2976 samples\n",
      "I/O size  8388608, job read: 1516 samples\n",
      "I/O size 16777216, job read: 755 samples\n",
      "Aggregated data for 60124472 I/Os, max latency 42729.472000 us\n",
      "Scanning for fio data in /alaska/bharat/beegfs-16-randread/beegfs-read-8d75t\n",
      "I/O size      128, job read: 32 samples\n",
      "I/O size      256, job read: 32 samples\n",
      "I/O size      512, job read: 702883 samples\n",
      "I/O size     1024, job read: 702526 samples\n",
      "I/O size     2048, job read: 703917 samples\n",
      "I/O size     4096, job read: 700048 samples\n",
      "I/O size     8192, job read: 661425 samples\n",
      "I/O size    16384, job read: 573184 samples\n",
      "I/O size    32768, job read: 380460 samples\n",
      "I/O size    65536, job read: 196336 samples\n",
      "I/O size   131072, job read: 97019 samples\n",
      "I/O size   262144, job read: 48615 samples\n",
      "I/O size   524288, job read: 24256 samples\n",
      "I/O size  1048576, job read: 12099 samples\n",
      "I/O size  2097152, job read: 6071 samples\n",
      "I/O size  4194304, job read: 3086 samples\n",
      "I/O size  8388608, job read: 1510 samples\n",
      "I/O size 16777216, job read: 753 samples\n",
      "Aggregated data for 64745251 I/Os, max latency 42729.472000 us\n",
      "Scanning for fio data in /alaska/bharat/beegfs-16-randread/beegfs-read-cb75c\n",
      "I/O size      128, job read: 32 samples\n",
      "I/O size      256, job read: 32 samples\n",
      "I/O size      512, job read: 703711 samples\n",
      "I/O size     1024, job read: 703685 samples\n",
      "I/O size     2048, job read: 699787 samples\n",
      "I/O size     4096, job read: 699523 samples\n",
      "I/O size     8192, job read: 666442 samples\n",
      "I/O size    16384, job read: 573545 samples\n",
      "I/O size    32768, job read: 380883 samples\n",
      "I/O size    65536, job read: 195810 samples\n",
      "I/O size   131072, job read: 97364 samples\n",
      "I/O size   262144, job read: 48591 samples\n",
      "I/O size   524288, job read: 24380 samples\n",
      "I/O size  1048576, job read: 12281 samples\n",
      "I/O size  2097152, job read: 6130 samples\n",
      "I/O size  4194304, job read: 3106 samples\n",
      "I/O size  8388608, job read: 1502 samples\n",
      "I/O size 16777216, job read: 754 samples\n",
      "Aggregated data for 69368637 I/Os, max latency 42729.472000 us\n",
      "Scanning for fio data in /alaska/bharat/beegfs-16-randread/beegfs-read-7hfwk\n",
      "I/O size      128, job read: 32 samples\n",
      "I/O size      256, job read: 32 samples\n",
      "I/O size      512, job read: 697692 samples\n",
      "I/O size     1024, job read: 703590 samples\n",
      "I/O size     2048, job read: 704576 samples\n",
      "I/O size     4096, job read: 700249 samples\n",
      "I/O size     8192, job read: 666944 samples\n",
      "I/O size    16384, job read: 577020 samples\n",
      "I/O size    32768, job read: 380477 samples\n",
      "I/O size    65536, job read: 195935 samples\n",
      "I/O size   131072, job read: 97105 samples\n",
      "I/O size   262144, job read: 48470 samples\n",
      "I/O size   524288, job read: 24442 samples\n",
      "I/O size  1048576, job read: 12150 samples\n",
      "I/O size  2097152, job read: 6103 samples\n",
      "I/O size  4194304, job read: 3067 samples\n",
      "I/O size  8388608, job read: 1524 samples\n",
      "I/O size 16777216, job read: 759 samples\n",
      "Aggregated data for 73995120 I/Os, max latency 42729.472000 us\n"
     ]
    }
   ],
   "source": [
    "clat_grid = fio_parse.ClatGrid(input_dirs, output_dir, 200, force=True, logscale=True, mode='read', skip_bs=[128, 256])"
   ]
  },
  {
   "cell_type": "code",
   "execution_count": 48,
   "metadata": {},
   "outputs": [],
   "source": [
    "cldf = pandas.read_csv(output_dir/'read-clat.dat',header=None,index_col=0,names=['ns','freq'],delimiter='\\t')\n",
    "cldf.index.name = 'block size'\n",
    "cldf.columns.name = 'bandwidth'"
   ]
  },
  {
   "cell_type": "code",
   "execution_count": 49,
   "metadata": {},
   "outputs": [
    {
     "data": {
      "text/plain": [
       "<matplotlib.axes._subplots.AxesSubplot at 0x7fa1f343d350>"
      ]
     },
     "execution_count": 49,
     "metadata": {},
     "output_type": "execute_result"
    },
    {
     "data": {
      "image/png": "[encoded data removed]",
      "text/plain": [
       "<Figure size 432x288 with 1 Axes>"
      ]
     },
     "metadata": {
      "needs_background": "light"
     },
     "output_type": "display_data"
    }
   ],
   "source": [
    "cldf.groupby(cldf.index).mean().plot(xlim=[7,24])"
   ]
  },
  {
   "cell_type": "code",
   "execution_count": 52,
   "metadata": {},
   "outputs": [],
   "source": [
    "bwdf = pandas.read_csv(output_dir/'read-bandwidth.dat',header=None,index_col=0,names=['read','write'],delimiter='\\t')\n",
    "bwdf.index.name = 'block size'\n",
    "bwdf.columns.name = 'bandwidth'"
   ]
  },
  {
   "cell_type": "code",
   "execution_count": 53,
   "metadata": {},
   "outputs": [
    {
     "data": {
      "text/plain": [
       "Text(0,0.5,'bandwidth')"
      ]
     },
     "execution_count": 53,
     "metadata": {},
     "output_type": "execute_result"
    },
    {
     "data": {
      "image/png": "[encoded data removed]",
      "text/plain": [
       "<Figure size 432x288 with 1 Axes>"
      ]
     },
     "metadata": {
      "needs_background": "light"
     },
     "output_type": "display_data"
    }
   ],
   "source": [
    "ax = bwdf.groupby(bwdf.index).mean().plot(loglog=True)\n",
    "ax.set_ylabel('bandwidth')"
   ]
  },
  {
   "cell_type": "code",
   "execution_count": 54,
   "metadata": {},
   "outputs": [],
   "source": [
    "cols=['iops','1%','5%','10%','20%','30%','40%','50%','60%','70%','80%','90%','95%','99%','99.5%','99.9%','99.95%','99.99%']\n",
    "ildf=pandas.read_csv(output_dir/'read-iops-latency.dat',header=None,index_col=0,names=cols,delimiter='\\t')\n",
    "ildf.index.name = 'block size'\n",
    "ildf.columns.name = 'percentiles'"
   ]
  },
  {
   "cell_type": "code",
   "execution_count": 55,
   "metadata": {},
   "outputs": [],
   "source": [
    "mildf = ildf.groupby(ildf.index).mean()/clat_grid.divider\n",
    "mildf.index = np.log2(mildf.index)"
   ]
  },
  {
   "cell_type": "code",
   "execution_count": 56,
   "metadata": {},
   "outputs": [
    {
     "name": "stdout",
     "output_type": "stream",
     "text": [
      "Plotting to output/beegfs-16-randread/blob.png\n"
     ]
    },
    {
     "name": "stderr",
     "output_type": "stream",
     "text": [
      "/opt/bharat/venv-openstack/lib/python2.7/site-packages/ipykernel_launcher.py:3: RuntimeWarning: divide by zero encountered in log10\n",
      "  This is separate from the ipykernel package so we can avoid doing imports until\n"
     ]
    },
    {
     "data": {
      "image/png": "[encoded data removed]",
      "text/plain": [
       "<Figure size 720x720 with 1 Axes>"
      ]
     },
     "metadata": {
      "needs_background": "light"
     },
     "output_type": "display_data"
    }
   ],
   "source": [
    "fig = clat_grid.plot_data(output_dir=output_dir,cmap='gist_heat')\n",
    "# fig=df[[8,12,14,18]].plot(figsize=(10,10))\n",
    "np.log10(mildf[['50%','95%','99%','99.99%']]).plot(figsize=(10,10),ax=fig.axes[0],xlim=[9,16],ylim=[2.5,6.5], linewidth=3,style='-.')\n",
    "plt.xlabel('block size - $2^n$')\n",
    "plt.ylabel('commit latency - $10^n$  (ns)')\n",
    "plt.savefig('%s/%s'%(output_dir,'decorated-blog.png'))"
   ]
  },
  {
   "cell_type": "code",
   "execution_count": null,
   "metadata": {},
   "outputs": [],
   "source": []
  }
 ],
 "metadata": {
  "kernelspec": {
   "display_name": "Python 2",
   "language": "python",
   "name": "python2"
  },
  "language_info": {
   "codemirror_mode": {
    "name": "ipython",
    "version": 2
   },
   "file_extension": ".py",
   "mimetype": "text/x-python",
   "name": "python",
   "nbconvert_exporter": "python",
   "pygments_lexer": "ipython2",
   "version": "2.7.5"
  }
 },
 "nbformat": 4,
 "nbformat_minor": 2
}
