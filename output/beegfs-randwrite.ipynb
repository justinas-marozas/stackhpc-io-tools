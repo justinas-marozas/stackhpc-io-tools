{
 "cells": [
  {
   "cell_type": "code",
   "execution_count": 1,
   "metadata": {},
   "outputs": [
    {
     "name": "stdout",
     "output_type": "stream",
     "text": [
      "Using matplotlib backend: agg\n",
      "Populating the interactive namespace from numpy and matplotlib\n"
     ]
    }
   ],
   "source": [
    "%load_ext autoreload\n",
    "%autoreload 2\n",
    "%matplotlib inline\n",
    "%pylab"
   ]
  },
  {
   "cell_type": "code",
   "execution_count": 2,
   "metadata": {},
   "outputs": [],
   "source": [
    "import pandas\n",
    "import fio_parse\n",
    "from pathlib2 import Path"
   ]
  },
  {
   "cell_type": "code",
   "execution_count": 3,
   "metadata": {},
   "outputs": [],
   "source": [
    "input_dirs=list(Path('/alaska/bharat/beegfs-16-randwrite/').iterdir())\n",
    "output_dir=Path('output/beegfs-16-randwrite')"
   ]
  },
  {
   "cell_type": "code",
   "execution_count": 4,
   "metadata": {},
   "outputs": [
    {
     "name": "stdout",
     "output_type": "stream",
     "text": [
      "Deleting existing output data output/beegfs-16-randwrite/decorated-blog.png in output directory\n",
      "Deleting existing output data output/beegfs-16-randwrite/write-bandwidth.dat in output directory\n",
      "Deleting existing output data output/beegfs-16-randwrite/write-iops-latency.dat in output directory\n",
      "Deleting existing output data output/beegfs-16-randwrite/write-clat.dat in output directory\n",
      "Deleting existing output data output/beegfs-16-randwrite/blob.png in output directory\n",
      "Scanning for fio data in /alaska/bharat/beegfs-16-randwrite/beegfs-write-mlr6v\n",
      "I/O size      128, job write: 32 samples\n",
      "I/O size      256, job write: 32 samples\n",
      "I/O size      512, job write: 163477 samples\n",
      "I/O size     1024, job write: 164215 samples\n",
      "I/O size     2048, job write: 191299 samples\n",
      "I/O size     4096, job write: 518605 samples\n",
      "I/O size     8192, job write: 434164 samples\n",
      "I/O size    16384, job write: 324130 samples\n",
      "I/O size    32768, job write: 180098 samples\n",
      "I/O size    65536, job write: 93970 samples\n",
      "I/O size   131072, job write: 48252 samples\n",
      "I/O size   262144, job write: 24226 samples\n",
      "I/O size   524288, job write: 12776 samples\n",
      "I/O size  1048576, job write: 6332 samples\n",
      "I/O size  2097152, job write: 3218 samples\n",
      "I/O size  4194304, job write: 1546 samples\n",
      "I/O size  8388608, job write: 796 samples\n",
      "I/O size 16777216, job write: 398 samples\n",
      "Aggregated data for 2069958 I/Os, max latency 3808428.032000 us\n",
      "Scanning for fio data in /alaska/bharat/beegfs-16-randwrite/beegfs-write-n9mxr\n",
      "I/O size      128, job write: 32 samples\n",
      "I/O size      256, job write: 32 samples\n",
      "I/O size      512, job write: 164200 samples\n",
      "I/O size     1024, job write: 167814 samples\n",
      "I/O size     2048, job write: 191520 samples\n",
      "I/O size     4096, job write: 525244 samples\n",
      "I/O size     8192, job write: 433533 samples\n",
      "I/O size    16384, job write: 352605 samples\n",
      "I/O size    32768, job write: 181534 samples\n",
      "I/O size    65536, job write: 103678 samples\n",
      "I/O size   131072, job write: 49636 samples\n",
      "I/O size   262144, job write: 24612 samples\n",
      "I/O size   524288, job write: 12914 samples\n",
      "I/O size  1048576, job write: 6341 samples\n",
      "I/O size  2097152, job write: 3075 samples\n",
      "I/O size  4194304, job write: 1546 samples\n",
      "I/O size  8388608, job write: 745 samples\n",
      "I/O size 16777216, job write: 382 samples\n",
      "Aggregated data for 4190086 I/Os, max latency 3808428.032000 us\n",
      "Scanning for fio data in /alaska/bharat/beegfs-16-randwrite/beegfs-write-l7hph\n",
      "I/O size      128, job write: 32 samples\n",
      "I/O size      256, job write: 32 samples\n",
      "I/O size      512, job write: 164171 samples\n",
      "I/O size     1024, job write: 168099 samples\n",
      "I/O size     2048, job write: 192695 samples\n",
      "I/O size     4096, job write: 533790 samples\n",
      "I/O size     8192, job write: 435063 samples\n",
      "I/O size    16384, job write: 323744 samples\n",
      "I/O size    32768, job write: 181304 samples\n",
      "I/O size    65536, job write: 95759 samples\n",
      "I/O size   131072, job write: 47501 samples\n",
      "I/O size   262144, job write: 24625 samples\n",
      "I/O size   524288, job write: 12715 samples\n",
      "I/O size  1048576, job write: 6171 samples\n",
      "I/O size  2097152, job write: 3234 samples\n",
      "I/O size  4194304, job write: 1612 samples\n",
      "I/O size  8388608, job write: 727 samples\n",
      "I/O size 16777216, job write: 381 samples\n",
      "Aggregated data for 6284711 I/Os, max latency 3808428.032000 us\n",
      "Scanning for fio data in /alaska/bharat/beegfs-16-randwrite/beegfs-write-9x2wl\n",
      "I/O size      128, job write: 32 samples\n",
      "I/O size      256, job write: 32 samples\n",
      "I/O size      512, job write: 163915 samples\n",
      "I/O size     1024, job write: 172664 samples\n",
      "I/O size     2048, job write: 203216 samples\n",
      "I/O size     4096, job write: 519370 samples\n",
      "I/O size     8192, job write: 486240 samples\n",
      "I/O size    16384, job write: 325395 samples\n",
      "I/O size    32768, job write: 179962 samples\n",
      "I/O size    65536, job write: 92572 samples\n",
      "I/O size   131072, job write: 48228 samples\n",
      "I/O size   262144, job write: 24354 samples\n",
      "I/O size   524288, job write: 13003 samples\n",
      "I/O size  1048576, job write: 6738 samples\n",
      "I/O size  2097152, job write: 3170 samples\n",
      "I/O size  4194304, job write: 1608 samples\n",
      "I/O size  8388608, job write: 870 samples\n",
      "I/O size 16777216, job write: 383 samples\n",
      "Aggregated data for 8428045 I/Os, max latency 3808428.032000 us\n",
      "Scanning for fio data in /alaska/bharat/beegfs-16-randwrite/beegfs-write-kvmlg\n",
      "I/O size      128, job write: 32 samples\n",
      "I/O size      256, job write: 32 samples\n",
      "I/O size      512, job write: 163799 samples\n",
      "I/O size     1024, job write: 165057 samples\n",
      "I/O size     2048, job write: 204395 samples\n",
      "I/O size     4096, job write: 531263 samples\n",
      "I/O size     8192, job write: 434582 samples\n",
      "I/O size    16384, job write: 353255 samples\n",
      "I/O size    32768, job write: 181112 samples\n",
      "I/O size    65536, job write: 103635 samples\n",
      "I/O size   131072, job write: 47672 samples\n",
      "I/O size   262144, job write: 24947 samples\n",
      "I/O size   524288, job write: 12687 samples\n",
      "I/O size  1048576, job write: 6289 samples\n",
      "I/O size  2097152, job write: 3324 samples\n",
      "I/O size  4194304, job write: 1583 samples\n",
      "I/O size  8388608, job write: 775 samples\n",
      "I/O size 16777216, job write: 377 samples\n",
      "Aggregated data for 10565143 I/Os, max latency 3808428.032000 us\n",
      "Scanning for fio data in /alaska/bharat/beegfs-16-randwrite/beegfs-write-tmhkh\n",
      "I/O size      128, job write: 32 samples\n",
      "I/O size      256, job write: 32 samples\n",
      "I/O size      512, job write: 163671 samples\n",
      "I/O size     1024, job write: 172920 samples\n",
      "I/O size     2048, job write: 191530 samples\n",
      "I/O size     4096, job write: 525832 samples\n",
      "I/O size     8192, job write: 434044 samples\n",
      "I/O size    16384, job write: 324182 samples\n",
      "I/O size    32768, job write: 179705 samples\n",
      "I/O size    65536, job write: 95626 samples\n",
      "I/O size   131072, job write: 47881 samples\n",
      "I/O size   262144, job write: 24470 samples\n",
      "I/O size   524288, job write: 12633 samples\n",
      "I/O size  1048576, job write: 6009 samples\n",
      "I/O size  2097152, job write: 3173 samples\n",
      "I/O size  4194304, job write: 1618 samples\n",
      "I/O size  8388608, job write: 790 samples\n",
      "I/O size 16777216, job write: 390 samples\n",
      "Aggregated data for 12652653 I/Os, max latency 3808428.032000 us\n",
      "Scanning for fio data in /alaska/bharat/beegfs-16-randwrite/beegfs-write-t45j8\n",
      "I/O size      128, job write: 32 samples\n",
      "I/O size      256, job write: 32 samples\n",
      "I/O size      512, job write: 163488 samples\n",
      "I/O size     1024, job write: 172433 samples\n",
      "I/O size     2048, job write: 191388 samples\n",
      "I/O size     4096, job write: 517556 samples\n",
      "I/O size     8192, job write: 436683 samples\n",
      "I/O size    16384, job write: 335125 samples\n",
      "I/O size    32768, job write: 180350 samples\n",
      "I/O size    65536, job write: 94595 samples\n",
      "I/O size   131072, job write: 47984 samples\n",
      "I/O size   262144, job write: 24578 samples\n",
      "I/O size   524288, job write: 12407 samples\n",
      "I/O size  1048576, job write: 6548 samples\n",
      "I/O size  2097152, job write: 3146 samples\n",
      "I/O size  4194304, job write: 1571 samples\n",
      "I/O size  8388608, job write: 777 samples\n",
      "I/O size 16777216, job write: 385 samples\n",
      "Aggregated data for 14744271 I/Os, max latency 3808428.032000 us\n",
      "Scanning for fio data in /alaska/bharat/beegfs-16-randwrite/beegfs-write-5bxf6\n",
      "I/O size      128, job write: 32 samples\n",
      "I/O size      256, job write: 32 samples\n",
      "I/O size      512, job write: 163156 samples\n",
      "I/O size     1024, job write: 164876 samples\n",
      "I/O size     2048, job write: 204589 samples\n",
      "I/O size     4096, job write: 517481 samples\n",
      "I/O size     8192, job write: 436474 samples\n",
      "I/O size    16384, job write: 339643 samples\n",
      "I/O size    32768, job write: 182925 samples\n",
      "I/O size    65536, job write: 96345 samples\n",
      "I/O size   131072, job write: 49310 samples\n",
      "I/O size   262144, job write: 24868 samples\n",
      "I/O size   524288, job write: 12771 samples\n",
      "I/O size  1048576, job write: 6575 samples\n",
      "I/O size  2097152, job write: 3221 samples\n",
      "I/O size  4194304, job write: 1526 samples\n",
      "I/O size  8388608, job write: 809 samples\n",
      "I/O size 16777216, job write: 388 samples\n",
      "Aggregated data for 16849760 I/Os, max latency 3808428.032000 us\n",
      "Scanning for fio data in /alaska/bharat/beegfs-16-randwrite/beegfs-write-4hjbj\n",
      "I/O size      128, job write: 32 samples\n",
      "I/O size      256, job write: 32 samples\n",
      "I/O size      512, job write: 164015 samples\n",
      "I/O size     1024, job write: 165085 samples\n",
      "I/O size     2048, job write: 205012 samples\n",
      "I/O size     4096, job write: 518059 samples\n",
      "I/O size     8192, job write: 436487 samples\n",
      "I/O size    16384, job write: 353401 samples\n",
      "I/O size    32768, job write: 181092 samples\n",
      "I/O size    65536, job write: 95836 samples\n",
      "I/O size   131072, job write: 49000 samples\n",
      "I/O size   262144, job write: 25088 samples\n",
      "I/O size   524288, job write: 12551 samples\n",
      "I/O size  1048576, job write: 6196 samples\n",
      "I/O size  2097152, job write: 3233 samples\n",
      "I/O size  4194304, job write: 1592 samples\n",
      "I/O size  8388608, job write: 802 samples\n",
      "I/O size 16777216, job write: 401 samples\n",
      "Aggregated data for 18968747 I/Os, max latency 4043309.056000 us\n",
      "Scanning for fio data in /alaska/bharat/beegfs-16-randwrite/beegfs-write-c2xn8\n",
      "I/O size      128, job write: 32 samples\n",
      "I/O size      256, job write: 32 samples\n",
      "I/O size      512, job write: 164316 samples\n",
      "I/O size     1024, job write: 168115 samples\n",
      "I/O size     2048, job write: 191451 samples\n",
      "I/O size     4096, job write: 526069 samples\n",
      "I/O size     8192, job write: 437294 samples\n",
      "I/O size    16384, job write: 328180 samples\n",
      "I/O size    32768, job write: 180700 samples\n",
      "I/O size    65536, job write: 95756 samples\n",
      "I/O size   131072, job write: 48997 samples\n",
      "I/O size   262144, job write: 24646 samples\n",
      "I/O size   524288, job write: 12706 samples\n",
      "I/O size  1048576, job write: 6261 samples\n",
      "I/O size  2097152, job write: 3208 samples\n",
      "I/O size  4194304, job write: 1601 samples\n",
      "I/O size  8388608, job write: 806 samples\n",
      "I/O size 16777216, job write: 376 samples\n",
      "Aggregated data for 21060628 I/Os, max latency 4043309.056000 us\n",
      "Scanning for fio data in /alaska/bharat/beegfs-16-randwrite/beegfs-write-bx4wk\n",
      "I/O size      128, job write: 32 samples\n",
      "I/O size      256, job write: 32 samples\n",
      "I/O size      512, job write: 164551 samples\n",
      "I/O size     1024, job write: 167439 samples\n",
      "I/O size     2048, job write: 205412 samples\n",
      "I/O size     4096, job write: 533856 samples\n",
      "I/O size     8192, job write: 468793 samples\n",
      "I/O size    16384, job write: 355343 samples\n",
      "I/O size    32768, job write: 181646 samples\n",
      "I/O size    65536, job write: 96914 samples\n",
      "I/O size   131072, job write: 50602 samples\n",
      "I/O size   262144, job write: 25361 samples\n",
      "I/O size   524288, job write: 12961 samples\n",
      "I/O size  1048576, job write: 6513 samples\n",
      "I/O size  2097152, job write: 3158 samples\n",
      "I/O size  4194304, job write: 1519 samples\n",
      "I/O size  8388608, job write: 755 samples\n",
      "I/O size 16777216, job write: 377 samples\n",
      "Aggregated data for 23234582 I/Os, max latency 4043309.056000 us\n",
      "Scanning for fio data in /alaska/bharat/beegfs-16-randwrite/beegfs-write-db5gt\n",
      "I/O size      128, job write: 32 samples\n",
      "I/O size      256, job write: 32 samples\n",
      "I/O size      512, job write: 164040 samples\n",
      "I/O size     1024, job write: 172827 samples\n",
      "I/O size     2048, job write: 191439 samples\n",
      "I/O size     4096, job write: 532979 samples\n",
      "I/O size     8192, job write: 434574 samples\n",
      "I/O size    16384, job write: 324782 samples\n",
      "I/O size    32768, job write: 180897 samples\n",
      "I/O size    65536, job write: 94859 samples\n",
      "I/O size   131072, job write: 49967 samples\n",
      "I/O size   262144, job write: 25081 samples\n",
      "I/O size   524288, job write: 13292 samples\n",
      "I/O size  1048576, job write: 6620 samples\n",
      "I/O size  2097152, job write: 3124 samples\n",
      "I/O size  4194304, job write: 1610 samples\n",
      "I/O size  8388608, job write: 763 samples\n",
      "I/O size 16777216, job write: 375 samples\n",
      "Aggregated data for 25330979 I/Os, max latency 4043309.056000 us\n",
      "Scanning for fio data in /alaska/bharat/beegfs-16-randwrite/beegfs-write-7llkv\n",
      "I/O size      128, job write: 32 samples\n",
      "I/O size      256, job write: 32 samples\n",
      "I/O size      512, job write: 164101 samples\n",
      "I/O size     1024, job write: 164480 samples\n",
      "I/O size     2048, job write: 191707 samples\n",
      "I/O size     4096, job write: 518649 samples\n",
      "I/O size     8192, job write: 483919 samples\n",
      "I/O size    16384, job write: 355648 samples\n",
      "I/O size    32768, job write: 181812 samples\n",
      "I/O size    65536, job write: 96011 samples\n",
      "I/O size   131072, job write: 49305 samples\n",
      "I/O size   262144, job write: 24921 samples\n",
      "I/O size   524288, job write: 13258 samples\n",
      "I/O size  1048576, job write: 6940 samples\n",
      "I/O size  2097152, job write: 3181 samples\n",
      "I/O size  4194304, job write: 1534 samples\n",
      "I/O size  8388608, job write: 768 samples\n",
      "I/O size 16777216, job write: 386 samples\n",
      "Aggregated data for 27487306 I/Os, max latency 4043309.056000 us\n",
      "Scanning for fio data in /alaska/bharat/beegfs-16-randwrite/beegfs-write-pgrqp\n",
      "I/O size      128, job write: 32 samples\n",
      "I/O size      256, job write: 32 samples\n",
      "I/O size      512, job write: 163569 samples\n",
      "I/O size     1024, job write: 171269 samples\n",
      "I/O size     2048, job write: 192202 samples\n",
      "I/O size     4096, job write: 518305 samples\n",
      "I/O size     8192, job write: 486785 samples\n",
      "I/O size    16384, job write: 325241 samples\n",
      "I/O size    32768, job write: 178993 samples\n",
      "I/O size    65536, job write: 94406 samples\n",
      "I/O size   131072, job write: 49151 samples\n",
      "I/O size   262144, job write: 24878 samples\n",
      "I/O size   524288, job write: 12997 samples\n",
      "I/O size  1048576, job write: 6575 samples\n",
      "I/O size  2097152, job write: 3205 samples\n",
      "I/O size  4194304, job write: 1577 samples\n",
      "I/O size  8388608, job write: 750 samples\n",
      "I/O size 16777216, job write: 395 samples\n",
      "Aggregated data for 29618076 I/Os, max latency 4043309.056000 us\n",
      "Scanning for fio data in /alaska/bharat/beegfs-16-randwrite/beegfs-write-qvl7r\n",
      "I/O size      128, job write: 32 samples\n",
      "I/O size      256, job write: 32 samples\n",
      "I/O size      512, job write: 164416 samples\n",
      "I/O size     1024, job write: 173402 samples\n",
      "I/O size     2048, job write: 202781 samples\n",
      "I/O size     4096, job write: 520651 samples\n",
      "I/O size     8192, job write: 438112 samples\n",
      "I/O size    16384, job write: 354759 samples\n",
      "I/O size    32768, job write: 183473 samples\n",
      "I/O size    65536, job write: 95679 samples\n",
      "I/O size   131072, job write: 48021 samples\n",
      "I/O size   262144, job write: 24818 samples\n",
      "I/O size   524288, job write: 12845 samples\n",
      "I/O size  1048576, job write: 6188 samples\n",
      "I/O size  2097152, job write: 3182 samples\n",
      "I/O size  4194304, job write: 1526 samples\n",
      "I/O size  8388608, job write: 758 samples\n",
      "I/O size 16777216, job write: 383 samples\n",
      "Aggregated data for 31751349 I/Os, max latency 4043309.056000 us\n",
      "Scanning for fio data in /alaska/bharat/beegfs-16-randwrite/beegfs-write-rdbvg\n",
      "I/O size      128, job write: 32 samples\n",
      "I/O size      256, job write: 32 samples\n",
      "I/O size      512, job write: 164103 samples\n",
      "I/O size     1024, job write: 164469 samples\n",
      "I/O size     2048, job write: 190793 samples\n",
      "I/O size     4096, job write: 524365 samples\n",
      "I/O size     8192, job write: 471775 samples\n",
      "I/O size    16384, job write: 324954 samples\n",
      "I/O size    32768, job write: 180355 samples\n",
      "I/O size    65536, job write: 95263 samples\n",
      "I/O size   131072, job write: 50176 samples\n",
      "I/O size   262144, job write: 25085 samples\n",
      "I/O size   524288, job write: 13140 samples\n",
      "I/O size  1048576, job write: 6835 samples\n",
      "I/O size  2097152, job write: 3242 samples\n",
      "I/O size  4194304, job write: 1556 samples\n",
      "I/O size  8388608, job write: 762 samples\n",
      "I/O size 16777216, job write: 385 samples\n",
      "Aggregated data for 33867426 I/Os, max latency 4043309.056000 us\n"
     ]
    }
   ],
   "source": [
    "clat_grid = fio_parse.ClatGrid(input_dirs, output_dir, 200, force=True, logscale=True, mode='write', skip_bs=[128, 256])"
   ]
  },
  {
   "cell_type": "code",
   "execution_count": 5,
   "metadata": {},
   "outputs": [],
   "source": [
    "cldf = pandas.read_csv(output_dir/'write-clat.dat',header=None,index_col=0,names=['ns','freq'],delimiter='\\t')\n",
    "cldf.index.name = 'block size'\n",
    "cldf.columns.name = 'bandwidth'"
   ]
  },
  {
   "cell_type": "code",
   "execution_count": 6,
   "metadata": {},
   "outputs": [
    {
     "data": {
      "text/plain": [
       "<matplotlib.axes._subplots.AxesSubplot at 0x7faabff38850>"
      ]
     },
     "execution_count": 6,
     "metadata": {},
     "output_type": "execute_result"
    },
    {
     "data": {
      "image/png": "[encoded data removed]",
      "text/plain": [
       "<Figure size 432x288 with 1 Axes>"
      ]
     },
     "metadata": {
      "needs_background": "light"
     },
     "output_type": "display_data"
    }
   ],
   "source": [
    "cldf.groupby(cldf.index).mean().plot(xlim=[7,24])"
   ]
  },
  {
   "cell_type": "code",
   "execution_count": 7,
   "metadata": {},
   "outputs": [],
   "source": [
    "bwdf = pandas.read_csv(output_dir/'write-bandwidth.dat',header=None,index_col=0,names=['read','write'],delimiter='\\t')\n",
    "bwdf.index.name = 'block size'\n",
    "bwdf.columns.name = 'bandwidth'"
   ]
  },
  {
   "cell_type": "code",
   "execution_count": 8,
   "metadata": {},
   "outputs": [
    {
     "data": {
      "text/plain": [
       "Text(0,0.5,'bandwidth')"
      ]
     },
     "execution_count": 8,
     "metadata": {},
     "output_type": "execute_result"
    },
    {
     "data": {
      "image/png": "[encoded data removed]",
      "text/plain": [
       "<Figure size 432x288 with 1 Axes>"
      ]
     },
     "metadata": {
      "needs_background": "light"
     },
     "output_type": "display_data"
    }
   ],
   "source": [
    "ax = bwdf.groupby(bwdf.index).mean().plot(loglog=True)\n",
    "ax.set_ylabel('bandwidth')"
   ]
  },
  {
   "cell_type": "code",
   "execution_count": 9,
   "metadata": {},
   "outputs": [],
   "source": [
    "cols=['iops','1%','5%','10%','20%','30%','40%','50%','60%','70%','80%','90%','95%','99%','99.5%','99.9%','99.95%','99.99%']\n",
    "ildf=pandas.read_csv(output_dir/'write-iops-latency.dat',header=None,index_col=0,names=cols,delimiter='\\t')\n",
    "ildf.index.name = 'block size'\n",
    "ildf.columns.name = 'percentiles'"
   ]
  },
  {
   "cell_type": "code",
   "execution_count": 10,
   "metadata": {},
   "outputs": [],
   "source": [
    "mildf = ildf.groupby(ildf.index).mean()/clat_grid.divider\n",
    "mildf.index = np.log2(mildf.index)"
   ]
  },
  {
   "cell_type": "code",
   "execution_count": 11,
   "metadata": {},
   "outputs": [
    {
     "name": "stdout",
     "output_type": "stream",
     "text": [
      "Plotting to output/beegfs-16-randwrite/blob.png\n"
     ]
    },
    {
     "name": "stderr",
     "output_type": "stream",
     "text": [
      "/opt/bharat/venv-openstack/lib/python2.7/site-packages/ipykernel_launcher.py:3: RuntimeWarning: divide by zero encountered in log10\n",
      "  This is separate from the ipykernel package so we can avoid doing imports until\n"
     ]
    },
    {
     "data": {
      "image/png": "[encoded data removed]",
      "text/plain": [
       "<Figure size 720x720 with 1 Axes>"
      ]
     },
     "metadata": {
      "needs_background": "light"
     },
     "output_type": "display_data"
    }
   ],
   "source": [
    "fig = clat_grid.plot_data(output_dir=output_dir,cmap='gist_heat')\n",
    "# fig=df[[8,12,14,18]].plot(figsize=(10,10))\n",
    "np.log10(mildf[['50%','95%','99%','99.99%']]).plot(figsize=(10,10),ax=fig.axes[0],xlim=[9,16],ylim=[2.5,6.5], linewidth=3,style='-.')\n",
    "plt.xlabel('block size - $2^n$')\n",
    "plt.ylabel('commit latency - $10^n$  (ns)')\n",
    "plt.savefig('%s/%s'%(output_dir,'decorated-blog.png'))"
   ]
  },
  {
   "cell_type": "code",
   "execution_count": null,
   "metadata": {},
   "outputs": [],
   "source": []
  }
 ],
 "metadata": {
  "kernelspec": {
   "display_name": "Python 2",
   "language": "python",
   "name": "python2"
  },
  "language_info": {
   "codemirror_mode": {
    "name": "ipython",
    "version": 2
   },
   "file_extension": ".py",
   "mimetype": "text/x-python",
   "name": "python",
   "nbconvert_exporter": "python",
   "pygments_lexer": "ipython2",
   "version": "2.7.5"
  }
 },
 "nbformat": 4,
 "nbformat_minor": 2
}
