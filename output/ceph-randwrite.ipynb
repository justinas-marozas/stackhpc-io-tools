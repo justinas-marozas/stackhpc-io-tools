{
 "cells": [
  {
   "cell_type": "code",
   "execution_count": 1,
   "metadata": {},
   "outputs": [
    {
     "name": "stdout",
     "output_type": "stream",
     "text": [
      "Using matplotlib backend: agg\n",
      "Populating the interactive namespace from numpy and matplotlib\n"
     ]
    }
   ],
   "source": [
    "%load_ext autoreload\n",
    "%autoreload 2\n",
    "%matplotlib inline\n",
    "%pylab"
   ]
  },
  {
   "cell_type": "code",
   "execution_count": 2,
   "metadata": {},
   "outputs": [],
   "source": [
    "import pandas\n",
    "import fio_parse\n",
    "from pathlib2 import Path"
   ]
  },
  {
   "cell_type": "code",
   "execution_count": 3,
   "metadata": {},
   "outputs": [],
   "source": [
    "input_dirs=list(Path('/alaska/bharat/ceph-16-randwrite/').iterdir())\n",
    "output_dir=Path('output/ceph-16-randwrite')"
   ]
  },
  {
   "cell_type": "code",
   "execution_count": 4,
   "metadata": {},
   "outputs": [
    {
     "name": "stdout",
     "output_type": "stream",
     "text": [
      "Scanning for fio data in /alaska/bharat/ceph-16-randwrite/ceph-write-7z94k\n",
      "I/O size      128, job write: 9887 samples\n",
      "I/O size      256, job write: 7707 samples\n",
      "I/O size      512, job write: 6715 samples\n",
      "I/O size     1024, job write: 6695 samples\n",
      "I/O size     2048, job write: 6617 samples\n",
      "I/O size     4096, job write: 6491 samples\n",
      "I/O size     8192, job write: 6268 samples\n",
      "I/O size    16384, job write: 5313 samples\n",
      "I/O size    32768, job write: 5260 samples\n",
      "I/O size    65536, job write: 5895 samples\n",
      "I/O size   131072, job write: 5350 samples\n",
      "I/O size   262144, job write: 4129 samples\n",
      "I/O size   524288, job write: 2732 samples\n",
      "I/O size  1048576, job write: 1278 samples\n",
      "I/O size  2097152, job write: 684 samples\n",
      "I/O size  4194304, job write: 368 samples\n",
      "I/O size  8388608, job write: 168 samples\n",
      "I/O size 16777216, job write: 106 samples\n",
      "Aggregated data for 49254 I/Os, max latency 1199570.944000 us\n",
      "Scanning for fio data in /alaska/bharat/ceph-16-randwrite/ceph-write-vqzsn\n",
      "I/O size      128, job write: 9890 samples\n",
      "I/O size      256, job write: 7748 samples\n",
      "I/O size      512, job write: 6925 samples\n",
      "I/O size     1024, job write: 6623 samples\n",
      "I/O size     2048, job write: 6518 samples\n",
      "I/O size     4096, job write: 6484 samples\n",
      "I/O size     8192, job write: 6287 samples\n",
      "I/O size    16384, job write: 5227 samples\n",
      "I/O size    32768, job write: 5189 samples\n",
      "I/O size    65536, job write: 5892 samples\n",
      "I/O size   131072, job write: 5306 samples\n",
      "I/O size   262144, job write: 4773 samples\n",
      "I/O size   524288, job write: 2616 samples\n",
      "I/O size  1048576, job write: 1278 samples\n",
      "I/O size  2097152, job write: 633 samples\n",
      "I/O size  4194304, job write: 372 samples\n",
      "I/O size  8388608, job write: 200 samples\n",
      "I/O size 16777216, job write: 86 samples\n",
      "Aggregated data for 98399 I/Os, max latency 1317011.456000 us\n",
      "Scanning for fio data in /alaska/bharat/ceph-16-randwrite/ceph-write-v2sqs\n",
      "I/O size      128, job write: 9895 samples\n",
      "I/O size      256, job write: 7760 samples\n",
      "I/O size      512, job write: 7003 samples\n",
      "I/O size     1024, job write: 6752 samples\n",
      "I/O size     2048, job write: 6604 samples\n",
      "I/O size     4096, job write: 6606 samples\n",
      "I/O size     8192, job write: 6434 samples\n",
      "I/O size    16384, job write: 5368 samples\n",
      "I/O size    32768, job write: 5180 samples\n",
      "I/O size    65536, job write: 5920 samples\n",
      "I/O size   131072, job write: 5258 samples\n",
      "I/O size   262144, job write: 4363 samples\n",
      "I/O size   524288, job write: 2339 samples\n",
      "I/O size  1048576, job write: 1316 samples\n",
      "I/O size  2097152, job write: 696 samples\n",
      "I/O size  4194304, job write: 375 samples\n",
      "I/O size  8388608, job write: 169 samples\n",
      "I/O size 16777216, job write: 96 samples\n",
      "Aggregated data for 148266 I/Os, max latency 1317011.456000 us\n",
      "Scanning for fio data in /alaska/bharat/ceph-16-randwrite/ceph-write-7rn9v\n",
      "I/O size      128, job write: 9863 samples\n",
      "I/O size      256, job write: 7789 samples\n",
      "I/O size      512, job write: 6967 samples\n",
      "I/O size     1024, job write: 6691 samples\n",
      "I/O size     2048, job write: 6430 samples\n",
      "I/O size     4096, job write: 6569 samples\n",
      "I/O size     8192, job write: 6375 samples\n",
      "I/O size    16384, job write: 5358 samples\n",
      "I/O size    32768, job write: 5168 samples\n",
      "I/O size    65536, job write: 5922 samples\n",
      "I/O size   131072, job write: 5246 samples\n",
      "I/O size   262144, job write: 3834 samples\n",
      "I/O size   524288, job write: 2645 samples\n",
      "I/O size  1048576, job write: 1225 samples\n",
      "I/O size  2097152, job write: 584 samples\n",
      "I/O size  4194304, job write: 342 samples\n",
      "I/O size  8388608, job write: 186 samples\n",
      "I/O size 16777216, job write: 72 samples\n",
      "Aggregated data for 197746 I/Os, max latency 1317011.456000 us\n",
      "Scanning for fio data in /alaska/bharat/ceph-16-randwrite/ceph-write-rjv4m\n",
      "I/O size      128, job write: 9821 samples\n",
      "I/O size      256, job write: 7769 samples\n",
      "I/O size      512, job write: 6973 samples\n",
      "I/O size     1024, job write: 6565 samples\n",
      "I/O size     2048, job write: 6658 samples\n",
      "I/O size     4096, job write: 6522 samples\n",
      "I/O size     8192, job write: 6401 samples\n",
      "I/O size    16384, job write: 5317 samples\n",
      "I/O size    32768, job write: 5154 samples\n",
      "I/O size    65536, job write: 5883 samples\n",
      "I/O size   131072, job write: 5338 samples\n",
      "I/O size   262144, job write: 4052 samples\n",
      "I/O size   524288, job write: 2548 samples\n",
      "I/O size  1048576, job write: 1162 samples\n",
      "I/O size  2097152, job write: 607 samples\n",
      "I/O size  4194304, job write: 375 samples\n",
      "I/O size  8388608, job write: 163 samples\n",
      "I/O size 16777216, job write: 72 samples\n",
      "Aggregated data for 247219 I/Os, max latency 1317011.456000 us\n",
      "Scanning for fio data in /alaska/bharat/ceph-16-randwrite/ceph-write-bvd6x\n",
      "I/O size      128, job write: 9912 samples\n",
      "I/O size      256, job write: 7704 samples\n",
      "I/O size      512, job write: 7024 samples\n",
      "I/O size     1024, job write: 6688 samples\n",
      "I/O size     2048, job write: 6549 samples\n",
      "I/O size     4096, job write: 6536 samples\n",
      "I/O size     8192, job write: 6434 samples\n",
      "I/O size    16384, job write: 5411 samples\n",
      "I/O size    32768, job write: 5168 samples\n",
      "I/O size    65536, job write: 5971 samples\n",
      "I/O size   131072, job write: 5306 samples\n",
      "I/O size   262144, job write: 4131 samples\n",
      "I/O size   524288, job write: 2229 samples\n",
      "I/O size  1048576, job write: 1312 samples\n",
      "I/O size  2097152, job write: 750 samples\n",
      "I/O size  4194304, job write: 344 samples\n",
      "I/O size  8388608, job write: 183 samples\n",
      "I/O size 16777216, job write: 88 samples\n",
      "Aggregated data for 297000 I/Os, max latency 1317011.456000 us\n",
      "Scanning for fio data in /alaska/bharat/ceph-16-randwrite/ceph-write-f52ck\n",
      "I/O size      128, job write: 9959 samples\n",
      "I/O size      256, job write: 7787 samples\n",
      "I/O size      512, job write: 6906 samples\n",
      "I/O size     1024, job write: 6718 samples\n",
      "I/O size     2048, job write: 6455 samples\n",
      "I/O size     4096, job write: 6525 samples\n",
      "I/O size     8192, job write: 6319 samples\n",
      "I/O size    16384, job write: 5327 samples\n",
      "I/O size    32768, job write: 5104 samples\n",
      "I/O size    65536, job write: 5936 samples\n",
      "I/O size   131072, job write: 5355 samples\n",
      "I/O size   262144, job write: 4389 samples\n",
      "I/O size   524288, job write: 2715 samples\n",
      "I/O size  1048576, job write: 1265 samples\n",
      "I/O size  2097152, job write: 699 samples\n",
      "I/O size  4194304, job write: 353 samples\n",
      "I/O size  8388608, job write: 195 samples\n",
      "I/O size 16777216, job write: 83 samples\n",
      "Aggregated data for 346290 I/Os, max latency 1317011.456000 us\n",
      "Scanning for fio data in /alaska/bharat/ceph-16-randwrite/ceph-write-bzt4k\n",
      "I/O size      128, job write: 9921 samples\n",
      "I/O size      256, job write: 7859 samples\n",
      "I/O size      512, job write: 6883 samples\n",
      "I/O size     1024, job write: 6714 samples\n",
      "I/O size     2048, job write: 6619 samples\n",
      "I/O size     4096, job write: 6579 samples\n",
      "I/O size     8192, job write: 6469 samples\n",
      "I/O size    16384, job write: 5279 samples\n",
      "I/O size    32768, job write: 5164 samples\n",
      "I/O size    65536, job write: 5983 samples\n",
      "I/O size   131072, job write: 5289 samples\n",
      "I/O size   262144, job write: 4296 samples\n",
      "I/O size   524288, job write: 2252 samples\n",
      "I/O size  1048576, job write: 1218 samples\n",
      "I/O size  2097152, job write: 680 samples\n",
      "I/O size  4194304, job write: 356 samples\n",
      "I/O size  8388608, job write: 156 samples\n",
      "I/O size 16777216, job write: 88 samples\n",
      "Aggregated data for 395980 I/Os, max latency 1333788.672000 us\n",
      "Scanning for fio data in /alaska/bharat/ceph-16-randwrite/ceph-write-pgfl7\n",
      "I/O size      128, job write: 9840 samples\n",
      "I/O size      256, job write: 7679 samples\n",
      "I/O size      512, job write: 6937 samples\n",
      "I/O size     1024, job write: 6573 samples\n",
      "I/O size     2048, job write: 6511 samples\n",
      "I/O size     4096, job write: 6468 samples\n",
      "I/O size     8192, job write: 6382 samples\n",
      "I/O size    16384, job write: 5280 samples\n",
      "I/O size    32768, job write: 5074 samples\n",
      "I/O size    65536, job write: 5849 samples\n",
      "I/O size   131072, job write: 5256 samples\n",
      "I/O size   262144, job write: 4605 samples\n",
      "I/O size   524288, job write: 2662 samples\n",
      "I/O size  1048576, job write: 1166 samples\n",
      "I/O size  2097152, job write: 666 samples\n",
      "I/O size  4194304, job write: 343 samples\n",
      "I/O size  8388608, job write: 162 samples\n",
      "I/O size 16777216, job write: 106 samples\n",
      "Aggregated data for 445054 I/Os, max latency 1350565.888000 us\n",
      "Scanning for fio data in /alaska/bharat/ceph-16-randwrite/ceph-write-6sh9q\n",
      "I/O size      128, job write: 9753 samples\n",
      "I/O size      256, job write: 7823 samples\n",
      "I/O size      512, job write: 6970 samples\n",
      "I/O size     1024, job write: 6626 samples\n",
      "I/O size     2048, job write: 6593 samples\n",
      "I/O size     4096, job write: 6557 samples\n",
      "I/O size     8192, job write: 6375 samples\n",
      "I/O size    16384, job write: 5233 samples\n",
      "I/O size    32768, job write: 5113 samples\n",
      "I/O size    65536, job write: 5921 samples\n",
      "I/O size   131072, job write: 5357 samples\n",
      "I/O size   262144, job write: 4744 samples\n",
      "I/O size   524288, job write: 2660 samples\n",
      "I/O size  1048576, job write: 1281 samples\n",
      "I/O size  2097152, job write: 580 samples\n",
      "I/O size  4194304, job write: 339 samples\n",
      "I/O size  8388608, job write: 162 samples\n",
      "I/O size 16777216, job write: 108 samples\n",
      "Aggregated data for 494442 I/Os, max latency 1350565.888000 us\n",
      "Scanning for fio data in /alaska/bharat/ceph-16-randwrite/ceph-write-l2bdp\n",
      "I/O size      128, job write: 9855 samples\n",
      "I/O size      256, job write: 7763 samples\n",
      "I/O size      512, job write: 7050 samples\n",
      "I/O size     1024, job write: 6711 samples\n",
      "I/O size     2048, job write: 6501 samples\n",
      "I/O size     4096, job write: 6546 samples\n",
      "I/O size     8192, job write: 6538 samples\n",
      "I/O size    16384, job write: 5277 samples\n",
      "I/O size    32768, job write: 5159 samples\n",
      "I/O size    65536, job write: 5891 samples\n",
      "I/O size   131072, job write: 5326 samples\n",
      "I/O size   262144, job write: 4064 samples\n",
      "I/O size   524288, job write: 2303 samples\n",
      "I/O size  1048576, job write: 1250 samples\n",
      "I/O size  2097152, job write: 638 samples\n",
      "I/O size  4194304, job write: 318 samples\n",
      "I/O size  8388608, job write: 187 samples\n",
      "I/O size 16777216, job write: 91 samples\n",
      "Aggregated data for 544115 I/Os, max latency 1350565.888000 us\n",
      "Scanning for fio data in /alaska/bharat/ceph-16-randwrite/ceph-write-k45w4\n",
      "I/O size      128, job write: 9917 samples\n",
      "I/O size      256, job write: 7790 samples\n",
      "I/O size      512, job write: 6982 samples\n",
      "I/O size     1024, job write: 6706 samples\n",
      "I/O size     2048, job write: 6663 samples\n",
      "I/O size     4096, job write: 6555 samples\n",
      "I/O size     8192, job write: 6400 samples\n",
      "I/O size    16384, job write: 5385 samples\n",
      "I/O size    32768, job write: 5110 samples\n",
      "I/O size    65536, job write: 5878 samples\n",
      "I/O size   131072, job write: 5354 samples\n",
      "I/O size   262144, job write: 4405 samples\n",
      "I/O size   524288, job write: 2134 samples\n",
      "I/O size  1048576, job write: 1292 samples\n",
      "I/O size  2097152, job write: 697 samples\n",
      "I/O size  4194304, job write: 326 samples\n",
      "I/O size  8388608, job write: 172 samples\n",
      "I/O size 16777216, job write: 79 samples\n",
      "Aggregated data for 593794 I/Os, max latency 1350565.888000 us\n",
      "Scanning for fio data in /alaska/bharat/ceph-16-randwrite/ceph-write-ggpzd\n",
      "I/O size      128, job write: 9812 samples\n",
      "I/O size      256, job write: 7801 samples\n",
      "I/O size      512, job write: 6990 samples\n",
      "I/O size     1024, job write: 6650 samples\n",
      "I/O size     2048, job write: 6656 samples\n",
      "I/O size     4096, job write: 6557 samples\n",
      "I/O size     8192, job write: 6360 samples\n",
      "I/O size    16384, job write: 5348 samples\n",
      "I/O size    32768, job write: 5130 samples\n",
      "I/O size    65536, job write: 5857 samples\n",
      "I/O size   131072, job write: 5330 samples\n",
      "I/O size   262144, job write: 3666 samples\n",
      "I/O size   524288, job write: 2752 samples\n",
      "I/O size  1048576, job write: 1361 samples\n",
      "I/O size  2097152, job write: 660 samples\n",
      "I/O size  4194304, job write: 337 samples\n",
      "I/O size  8388608, job write: 173 samples\n",
      "I/O size 16777216, job write: 95 samples\n",
      "Aggregated data for 643342 I/Os, max latency 1350565.888000 us\n",
      "Scanning for fio data in /alaska/bharat/ceph-16-randwrite/ceph-write-j9b8q\n",
      "I/O size      128, job write: 9883 samples\n",
      "I/O size      256, job write: 7666 samples\n",
      "I/O size      512, job write: 6951 samples\n",
      "I/O size     1024, job write: 6747 samples\n",
      "I/O size     2048, job write: 6622 samples\n",
      "I/O size     4096, job write: 6584 samples\n",
      "I/O size     8192, job write: 6418 samples\n",
      "I/O size    16384, job write: 5286 samples\n",
      "I/O size    32768, job write: 5089 samples\n",
      "I/O size    65536, job write: 5905 samples\n",
      "I/O size   131072, job write: 5351 samples\n",
      "I/O size   262144, job write: 4341 samples\n",
      "I/O size   524288, job write: 2246 samples\n",
      "I/O size  1048576, job write: 1272 samples\n",
      "I/O size  2097152, job write: 706 samples\n",
      "I/O size  4194304, job write: 355 samples\n",
      "I/O size  8388608, job write: 159 samples\n",
      "I/O size 16777216, job write: 96 samples\n",
      "Aggregated data for 692944 I/Os, max latency 1350565.888000 us\n",
      "Scanning for fio data in /alaska/bharat/ceph-16-randwrite/ceph-write-s7w4c\n",
      "I/O size      128, job write: 9887 samples\n",
      "I/O size      256, job write: 7695 samples\n",
      "I/O size      512, job write: 7098 samples\n",
      "I/O size     1024, job write: 6683 samples\n",
      "I/O size     2048, job write: 6523 samples\n",
      "I/O size     4096, job write: 6480 samples\n",
      "I/O size     8192, job write: 6456 samples\n",
      "I/O size    16384, job write: 5388 samples\n",
      "I/O size    32768, job write: 5198 samples\n",
      "I/O size    65536, job write: 5904 samples\n",
      "I/O size   131072, job write: 5363 samples\n",
      "I/O size   262144, job write: 4120 samples\n",
      "I/O size   524288, job write: 2192 samples\n",
      "I/O size  1048576, job write: 1280 samples\n",
      "I/O size  2097152, job write: 664 samples\n",
      "I/O size  4194304, job write: 372 samples\n",
      "I/O size  8388608, job write: 149 samples\n",
      "I/O size 16777216, job write: 84 samples\n",
      "Aggregated data for 742674 I/Os, max latency 1350565.888000 us\n",
      "Scanning for fio data in /alaska/bharat/ceph-16-randwrite/ceph-write-bzqpr\n",
      "I/O size      128, job write: 9880 samples\n",
      "I/O size      256, job write: 7806 samples\n",
      "I/O size      512, job write: 7036 samples\n",
      "I/O size     1024, job write: 6728 samples\n",
      "I/O size     2048, job write: 6538 samples\n",
      "I/O size     4096, job write: 6523 samples\n",
      "I/O size     8192, job write: 6474 samples\n",
      "I/O size    16384, job write: 5264 samples\n",
      "I/O size    32768, job write: 5143 samples\n",
      "I/O size    65536, job write: 5922 samples\n",
      "I/O size   131072, job write: 5422 samples\n",
      "I/O size   262144, job write: 4283 samples\n",
      "I/O size   524288, job write: 2397 samples\n",
      "I/O size  1048576, job write: 1203 samples\n",
      "I/O size  2097152, job write: 677 samples\n",
      "I/O size  4194304, job write: 353 samples\n",
      "I/O size  8388608, job write: 210 samples\n",
      "I/O size 16777216, job write: 70 samples\n",
      "Aggregated data for 792302 I/Os, max latency 1350565.888000 us\n"
     ]
    }
   ],
   "source": [
    "clat_grid = fio_parse.ClatGrid(input_dirs, output_dir, 200, force=True, logscale=True, mode='write', skip_bs=[128, 256])"
   ]
  },
  {
   "cell_type": "code",
   "execution_count": 5,
   "metadata": {},
   "outputs": [],
   "source": [
    "cldf = pandas.read_csv(output_dir/'write-clat.dat',header=None,index_col=0,names=['ns','freq'],delimiter='\\t')\n",
    "cldf.index.name = 'block size'\n",
    "cldf.columns.name = 'bandwidth'"
   ]
  },
  {
   "cell_type": "code",
   "execution_count": 6,
   "metadata": {},
   "outputs": [
    {
     "data": {
      "text/plain": [
       "<matplotlib.axes._subplots.AxesSubplot at 0x7ff50c824810>"
      ]
     },
     "execution_count": 6,
     "metadata": {},
     "output_type": "execute_result"
    },
    {
     "data": {
      "image/png": "[encoded data removed]",
      "text/plain": [
       "<Figure size 432x288 with 1 Axes>"
      ]
     },
     "metadata": {
      "needs_background": "light"
     },
     "output_type": "display_data"
    }
   ],
   "source": [
    "cldf.groupby(cldf.index).mean().plot(xlim=[7,24])"
   ]
  },
  {
   "cell_type": "code",
   "execution_count": 7,
   "metadata": {},
   "outputs": [],
   "source": [
    "bwdf = pandas.read_csv(output_dir/'write-bandwidth.dat',header=None,index_col=0,names=['read','write'],delimiter='\\t')\n",
    "bwdf.index.name = 'block size'\n",
    "bwdf.columns.name = 'bandwidth'"
   ]
  },
  {
   "cell_type": "code",
   "execution_count": 8,
   "metadata": {},
   "outputs": [
    {
     "data": {
      "text/plain": [
       "Text(0,0.5,'bandwidth')"
      ]
     },
     "execution_count": 8,
     "metadata": {},
     "output_type": "execute_result"
    },
    {
     "data": {
      "image/png": "[encoded data removed]",
      "text/plain": [
       "<Figure size 432x288 with 1 Axes>"
      ]
     },
     "metadata": {
      "needs_background": "light"
     },
     "output_type": "display_data"
    }
   ],
   "source": [
    "ax = bwdf.groupby(bwdf.index).mean().plot(loglog=True)\n",
    "ax.set_ylabel('bandwidth')"
   ]
  },
  {
   "cell_type": "code",
   "execution_count": 9,
   "metadata": {},
   "outputs": [],
   "source": [
    "cols=['iops','1%','5%','10%','20%','30%','40%','50%','60%','70%','80%','90%','95%','99%','99.5%','99.9%','99.95%','99.99%']\n",
    "ildf=pandas.read_csv(output_dir/'write-iops-latency.dat',header=None,index_col=0,names=cols,delimiter='\\t')\n",
    "ildf.index.name = 'block size'\n",
    "ildf.columns.name = 'percentiles'"
   ]
  },
  {
   "cell_type": "code",
   "execution_count": 10,
   "metadata": {},
   "outputs": [],
   "source": [
    "mildf = ildf.groupby(ildf.index).mean()/clat_grid.divider\n",
    "mildf.index = np.log2(mildf.index)"
   ]
  },
  {
   "cell_type": "code",
   "execution_count": 11,
   "metadata": {},
   "outputs": [
    {
     "name": "stdout",
     "output_type": "stream",
     "text": [
      "Plotting to output/ceph-16-randwrite/blob.png\n"
     ]
    },
    {
     "data": {
      "image/png": "[encoded data removed]",
      "text/plain": [
       "<Figure size 720x720 with 1 Axes>"
      ]
     },
     "metadata": {
      "needs_background": "light"
     },
     "output_type": "display_data"
    }
   ],
   "source": [
    "fig = clat_grid.plot_data(output_dir=output_dir,cmap='gist_heat')\n",
    "# fig=df[[8,12,14,18]].plot(figsize=(10,10))\n",
    "np.log10(mildf[['50%','95%','99%','99.99%']]).plot(figsize=(10,10),ax=fig.axes[0],xlim=[9,16],ylim=[2.5,6.5], linewidth=3,style='-.')\n",
    "plt.xlabel('block size - $2^n$')\n",
    "plt.ylabel('commit latency - $10^n$  (ns)')\n",
    "plt.savefig('%s/%s'%(output_dir,'decorated-blog.png'))"
   ]
  },
  {
   "cell_type": "code",
   "execution_count": null,
   "metadata": {},
   "outputs": [],
   "source": []
  }
 ],
 "metadata": {
  "kernelspec": {
   "display_name": "Python 2",
   "language": "python",
   "name": "python2"
  },
  "language_info": {
   "codemirror_mode": {
    "name": "ipython",
    "version": 2
   },
   "file_extension": ".py",
   "mimetype": "text/x-python",
   "name": "python",
   "nbconvert_exporter": "python",
   "pygments_lexer": "ipython2",
   "version": "2.7.5"
  }
 },
 "nbformat": 4,
 "nbformat_minor": 2
}
